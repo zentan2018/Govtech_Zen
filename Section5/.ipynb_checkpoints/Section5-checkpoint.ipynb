{
 "cells": [
  {
   "cell_type": "markdown",
   "metadata": {},
   "source": [
    "# Importing the Data"
   ]
  },
  {
   "cell_type": "code",
   "execution_count": 15,
   "metadata": {
    "ExecuteTime": {
     "end_time": "2021-11-01T09:36:40.000809Z",
     "start_time": "2021-11-01T09:36:39.987267Z"
    }
   },
   "outputs": [
    {
     "data": {
      "text/html": [
       "<div>\n",
       "<style scoped>\n",
       "    .dataframe tbody tr th:only-of-type {\n",
       "        vertical-align: middle;\n",
       "    }\n",
       "\n",
       "    .dataframe tbody tr th {\n",
       "        vertical-align: top;\n",
       "    }\n",
       "\n",
       "    .dataframe thead th {\n",
       "        text-align: right;\n",
       "    }\n",
       "</style>\n",
       "<table border=\"1\" class=\"dataframe\">\n",
       "  <thead>\n",
       "    <tr style=\"text-align: right;\">\n",
       "      <th></th>\n",
       "      <th>vhigh</th>\n",
       "      <th>vhigh.1</th>\n",
       "      <th>2</th>\n",
       "      <th>2.1</th>\n",
       "      <th>small</th>\n",
       "      <th>low</th>\n",
       "      <th>unacc</th>\n",
       "    </tr>\n",
       "  </thead>\n",
       "  <tbody>\n",
       "    <tr>\n",
       "      <th>0</th>\n",
       "      <td>vhigh</td>\n",
       "      <td>vhigh</td>\n",
       "      <td>2</td>\n",
       "      <td>2</td>\n",
       "      <td>small</td>\n",
       "      <td>med</td>\n",
       "      <td>unacc</td>\n",
       "    </tr>\n",
       "    <tr>\n",
       "      <th>1</th>\n",
       "      <td>vhigh</td>\n",
       "      <td>vhigh</td>\n",
       "      <td>2</td>\n",
       "      <td>2</td>\n",
       "      <td>small</td>\n",
       "      <td>high</td>\n",
       "      <td>unacc</td>\n",
       "    </tr>\n",
       "    <tr>\n",
       "      <th>2</th>\n",
       "      <td>vhigh</td>\n",
       "      <td>vhigh</td>\n",
       "      <td>2</td>\n",
       "      <td>2</td>\n",
       "      <td>med</td>\n",
       "      <td>low</td>\n",
       "      <td>unacc</td>\n",
       "    </tr>\n",
       "    <tr>\n",
       "      <th>3</th>\n",
       "      <td>vhigh</td>\n",
       "      <td>vhigh</td>\n",
       "      <td>2</td>\n",
       "      <td>2</td>\n",
       "      <td>med</td>\n",
       "      <td>med</td>\n",
       "      <td>unacc</td>\n",
       "    </tr>\n",
       "    <tr>\n",
       "      <th>4</th>\n",
       "      <td>vhigh</td>\n",
       "      <td>vhigh</td>\n",
       "      <td>2</td>\n",
       "      <td>2</td>\n",
       "      <td>med</td>\n",
       "      <td>high</td>\n",
       "      <td>unacc</td>\n",
       "    </tr>\n",
       "  </tbody>\n",
       "</table>\n",
       "</div>"
      ],
      "text/plain": [
       "   vhigh vhigh.1  2 2.1  small   low  unacc\n",
       "0  vhigh   vhigh  2   2  small   med  unacc\n",
       "1  vhigh   vhigh  2   2  small  high  unacc\n",
       "2  vhigh   vhigh  2   2    med   low  unacc\n",
       "3  vhigh   vhigh  2   2    med   med  unacc\n",
       "4  vhigh   vhigh  2   2    med  high  unacc"
      ]
     },
     "execution_count": 15,
     "metadata": {},
     "output_type": "execute_result"
    }
   ],
   "source": [
    "import pandas as pd\n",
    "import matplotlib.pyplot as plt\n",
    "\n",
    "df = pd.read_csv(\"car.data\")\n",
    "df.head()"
   ]
  },
  {
   "cell_type": "code",
   "execution_count": 16,
   "metadata": {
    "ExecuteTime": {
     "end_time": "2021-11-01T09:36:40.285625Z",
     "start_time": "2021-11-01T09:36:40.271171Z"
    }
   },
   "outputs": [
    {
     "data": {
      "text/html": [
       "<div>\n",
       "<style scoped>\n",
       "    .dataframe tbody tr th:only-of-type {\n",
       "        vertical-align: middle;\n",
       "    }\n",
       "\n",
       "    .dataframe tbody tr th {\n",
       "        vertical-align: top;\n",
       "    }\n",
       "\n",
       "    .dataframe thead th {\n",
       "        text-align: right;\n",
       "    }\n",
       "</style>\n",
       "<table border=\"1\" class=\"dataframe\">\n",
       "  <thead>\n",
       "    <tr style=\"text-align: right;\">\n",
       "      <th></th>\n",
       "      <th>buying_price</th>\n",
       "      <th>maintenance</th>\n",
       "      <th>doors</th>\n",
       "      <th>persons</th>\n",
       "      <th>lug_boot</th>\n",
       "      <th>safety</th>\n",
       "      <th>class_value</th>\n",
       "    </tr>\n",
       "  </thead>\n",
       "  <tbody>\n",
       "    <tr>\n",
       "      <th>0</th>\n",
       "      <td>vhigh</td>\n",
       "      <td>vhigh</td>\n",
       "      <td>2</td>\n",
       "      <td>2</td>\n",
       "      <td>small</td>\n",
       "      <td>med</td>\n",
       "      <td>unacc</td>\n",
       "    </tr>\n",
       "    <tr>\n",
       "      <th>1</th>\n",
       "      <td>vhigh</td>\n",
       "      <td>vhigh</td>\n",
       "      <td>2</td>\n",
       "      <td>2</td>\n",
       "      <td>small</td>\n",
       "      <td>high</td>\n",
       "      <td>unacc</td>\n",
       "    </tr>\n",
       "    <tr>\n",
       "      <th>2</th>\n",
       "      <td>vhigh</td>\n",
       "      <td>vhigh</td>\n",
       "      <td>2</td>\n",
       "      <td>2</td>\n",
       "      <td>med</td>\n",
       "      <td>low</td>\n",
       "      <td>unacc</td>\n",
       "    </tr>\n",
       "    <tr>\n",
       "      <th>3</th>\n",
       "      <td>vhigh</td>\n",
       "      <td>vhigh</td>\n",
       "      <td>2</td>\n",
       "      <td>2</td>\n",
       "      <td>med</td>\n",
       "      <td>med</td>\n",
       "      <td>unacc</td>\n",
       "    </tr>\n",
       "    <tr>\n",
       "      <th>4</th>\n",
       "      <td>vhigh</td>\n",
       "      <td>vhigh</td>\n",
       "      <td>2</td>\n",
       "      <td>2</td>\n",
       "      <td>med</td>\n",
       "      <td>high</td>\n",
       "      <td>unacc</td>\n",
       "    </tr>\n",
       "  </tbody>\n",
       "</table>\n",
       "</div>"
      ],
      "text/plain": [
       "  buying_price maintenance doors persons lug_boot safety class_value\n",
       "0        vhigh       vhigh     2       2    small    med       unacc\n",
       "1        vhigh       vhigh     2       2    small   high       unacc\n",
       "2        vhigh       vhigh     2       2      med    low       unacc\n",
       "3        vhigh       vhigh     2       2      med    med       unacc\n",
       "4        vhigh       vhigh     2       2      med   high       unacc"
      ]
     },
     "execution_count": 16,
     "metadata": {},
     "output_type": "execute_result"
    }
   ],
   "source": [
    "# Adding column labels\n",
    "df.columns = [\"buying_price\", \"maintenance\", \"doors\", \"persons\", \"lug_boot\", \"safety\", \"class_value\"]\n",
    "df.head()"
   ]
  },
  {
   "cell_type": "code",
   "execution_count": 17,
   "metadata": {
    "ExecuteTime": {
     "end_time": "2021-11-01T09:36:40.568982Z",
     "start_time": "2021-11-01T09:36:40.565137Z"
    }
   },
   "outputs": [
    {
     "data": {
      "text/plain": [
       "(1727, 7)"
      ]
     },
     "execution_count": 17,
     "metadata": {},
     "output_type": "execute_result"
    }
   ],
   "source": [
    "df.shape"
   ]
  },
  {
   "cell_type": "markdown",
   "metadata": {},
   "source": [
    "# Exploratory Data Analysis and Preprocessing"
   ]
  },
  {
   "cell_type": "code",
   "execution_count": 18,
   "metadata": {
    "ExecuteTime": {
     "end_time": "2021-11-01T09:36:41.042698Z",
     "start_time": "2021-11-01T09:36:41.037581Z"
    }
   },
   "outputs": [
    {
     "data": {
      "text/plain": [
       "buying_price    0\n",
       "maintenance     0\n",
       "doors           0\n",
       "persons         0\n",
       "lug_boot        0\n",
       "safety          0\n",
       "class_value     0\n",
       "dtype: int64"
      ]
     },
     "execution_count": 18,
     "metadata": {},
     "output_type": "execute_result"
    }
   ],
   "source": [
    "# Checking for any null values\n",
    "df.isnull().sum()"
   ]
  },
  {
   "cell_type": "code",
   "execution_count": 19,
   "metadata": {
    "ExecuteTime": {
     "end_time": "2021-11-01T09:36:41.302338Z",
     "start_time": "2021-11-01T09:36:41.290276Z"
    }
   },
   "outputs": [
    {
     "name": "stdout",
     "output_type": "stream",
     "text": [
      "med      432\n",
      "low      432\n",
      "high     432\n",
      "vhigh    431\n",
      "Name: buying_price, dtype: int64\n",
      "med      432\n",
      "low      432\n",
      "high     432\n",
      "vhigh    431\n",
      "Name: maintenance, dtype: int64\n",
      "3        432\n",
      "5more    432\n",
      "4        432\n",
      "2        431\n",
      "Name: doors, dtype: int64\n",
      "more    576\n",
      "4       576\n",
      "2       575\n",
      "Name: persons, dtype: int64\n",
      "med      576\n",
      "big      576\n",
      "small    575\n",
      "Name: lug_boot, dtype: int64\n",
      "med     576\n",
      "high    576\n",
      "low     575\n",
      "Name: safety, dtype: int64\n",
      "unacc    1209\n",
      "acc       384\n",
      "good       69\n",
      "vgood      65\n",
      "Name: class_value, dtype: int64\n"
     ]
    }
   ],
   "source": [
    "# Checking the distribution of every data column\n",
    "for col in list(df):\n",
    "    print(df[col].value_counts())   "
   ]
  },
  {
   "cell_type": "code",
   "execution_count": 20,
   "metadata": {
    "ExecuteTime": {
     "end_time": "2021-11-01T09:36:41.641147Z",
     "start_time": "2021-11-01T09:36:41.636992Z"
    }
   },
   "outputs": [],
   "source": [
    "X = df.drop(['buying_price', 'persons'], axis=1)\n",
    "y = df[['buying_price']]"
   ]
  },
  {
   "cell_type": "code",
   "execution_count": 21,
   "metadata": {
    "ExecuteTime": {
     "end_time": "2021-11-01T09:36:42.002067Z",
     "start_time": "2021-11-01T09:36:41.995878Z"
    }
   },
   "outputs": [
    {
     "data": {
      "text/plain": [
       "buying_price\n",
       "med             432\n",
       "low             432\n",
       "high            432\n",
       "vhigh           431\n",
       "dtype: int64"
      ]
     },
     "execution_count": 21,
     "metadata": {},
     "output_type": "execute_result"
    }
   ],
   "source": [
    "y.value_counts()"
   ]
  },
  {
   "cell_type": "code",
   "execution_count": 22,
   "metadata": {
    "ExecuteTime": {
     "end_time": "2021-11-01T09:36:42.395083Z",
     "start_time": "2021-11-01T09:36:42.386507Z"
    }
   },
   "outputs": [
    {
     "data": {
      "text/html": [
       "<div>\n",
       "<style scoped>\n",
       "    .dataframe tbody tr th:only-of-type {\n",
       "        vertical-align: middle;\n",
       "    }\n",
       "\n",
       "    .dataframe tbody tr th {\n",
       "        vertical-align: top;\n",
       "    }\n",
       "\n",
       "    .dataframe thead th {\n",
       "        text-align: right;\n",
       "    }\n",
       "</style>\n",
       "<table border=\"1\" class=\"dataframe\">\n",
       "  <thead>\n",
       "    <tr style=\"text-align: right;\">\n",
       "      <th></th>\n",
       "      <th>maintenance</th>\n",
       "      <th>doors</th>\n",
       "      <th>lug_boot</th>\n",
       "      <th>safety</th>\n",
       "      <th>class_value</th>\n",
       "    </tr>\n",
       "  </thead>\n",
       "  <tbody>\n",
       "    <tr>\n",
       "      <th>0</th>\n",
       "      <td>vhigh</td>\n",
       "      <td>2</td>\n",
       "      <td>small</td>\n",
       "      <td>med</td>\n",
       "      <td>unacc</td>\n",
       "    </tr>\n",
       "    <tr>\n",
       "      <th>1</th>\n",
       "      <td>vhigh</td>\n",
       "      <td>2</td>\n",
       "      <td>small</td>\n",
       "      <td>high</td>\n",
       "      <td>unacc</td>\n",
       "    </tr>\n",
       "    <tr>\n",
       "      <th>2</th>\n",
       "      <td>vhigh</td>\n",
       "      <td>2</td>\n",
       "      <td>med</td>\n",
       "      <td>low</td>\n",
       "      <td>unacc</td>\n",
       "    </tr>\n",
       "    <tr>\n",
       "      <th>3</th>\n",
       "      <td>vhigh</td>\n",
       "      <td>2</td>\n",
       "      <td>med</td>\n",
       "      <td>med</td>\n",
       "      <td>unacc</td>\n",
       "    </tr>\n",
       "    <tr>\n",
       "      <th>4</th>\n",
       "      <td>vhigh</td>\n",
       "      <td>2</td>\n",
       "      <td>med</td>\n",
       "      <td>high</td>\n",
       "      <td>unacc</td>\n",
       "    </tr>\n",
       "  </tbody>\n",
       "</table>\n",
       "</div>"
      ],
      "text/plain": [
       "  maintenance doors lug_boot safety class_value\n",
       "0       vhigh     2    small    med       unacc\n",
       "1       vhigh     2    small   high       unacc\n",
       "2       vhigh     2      med    low       unacc\n",
       "3       vhigh     2      med    med       unacc\n",
       "4       vhigh     2      med   high       unacc"
      ]
     },
     "execution_count": 22,
     "metadata": {},
     "output_type": "execute_result"
    }
   ],
   "source": [
    "X.head()"
   ]
  },
  {
   "cell_type": "code",
   "execution_count": 23,
   "metadata": {
    "ExecuteTime": {
     "end_time": "2021-11-01T09:36:42.788012Z",
     "start_time": "2021-11-01T09:36:42.782831Z"
    }
   },
   "outputs": [
    {
     "data": {
      "text/plain": [
       "unacc    1209\n",
       "acc       384\n",
       "good       69\n",
       "vgood      65\n",
       "Name: class_value, dtype: int64"
      ]
     },
     "execution_count": 23,
     "metadata": {},
     "output_type": "execute_result"
    }
   ],
   "source": [
    "X['class_value'].value_counts()"
   ]
  },
  {
   "cell_type": "code",
   "execution_count": 24,
   "metadata": {
    "ExecuteTime": {
     "end_time": "2021-11-01T09:36:43.209959Z",
     "start_time": "2021-11-01T09:36:43.202801Z"
    }
   },
   "outputs": [],
   "source": [
    "def maintenance_safety_encode(data):\n",
    "    if data == \"low\":\n",
    "        return 1\n",
    "    elif data == \"med\":\n",
    "        return 2\n",
    "    elif data == \"high\":\n",
    "        return 3\n",
    "    elif data == \"vhigh\":\n",
    "        return 4\n",
    "    \n",
    "def lug_encode(data):\n",
    "    if data == \"small\":\n",
    "        return 1\n",
    "    elif data == \"med\":\n",
    "        return 2\n",
    "    elif data == \"big\":\n",
    "        return 3\n",
    "    \n",
    "def lug_encode(data):\n",
    "    if data == \"small\":\n",
    "        return 1\n",
    "    elif data == \"med\":\n",
    "        return 2\n",
    "    elif data == \"big\":\n",
    "        return 3\n",
    "    \n",
    "def door_encode(data):\n",
    "    if data == \"2\":\n",
    "        return 1\n",
    "    elif data == \"3\":\n",
    "        return 2\n",
    "    elif data == \"4\":\n",
    "        return 3\n",
    "    elif data == \"5more\":\n",
    "        return 4\n",
    "    \n",
    "def class_encode(data):\n",
    "    if data == \"unacc\":\n",
    "        return 1\n",
    "    elif data == \"acc\":\n",
    "        return 2\n",
    "    elif data == \"good\":\n",
    "        return 3\n",
    "    elif data == \"vgood\":\n",
    "        return 4"
   ]
  },
  {
   "cell_type": "code",
   "execution_count": 25,
   "metadata": {
    "ExecuteTime": {
     "end_time": "2021-11-01T09:36:43.678210Z",
     "start_time": "2021-11-01T09:36:43.674228Z"
    }
   },
   "outputs": [
    {
     "data": {
      "text/plain": [
       "Index(['maintenance', 'doors', 'lug_boot', 'safety', 'class_value'], dtype='object')"
      ]
     },
     "execution_count": 25,
     "metadata": {},
     "output_type": "execute_result"
    }
   ],
   "source": [
    "X.columns"
   ]
  },
  {
   "cell_type": "code",
   "execution_count": 26,
   "metadata": {
    "ExecuteTime": {
     "end_time": "2021-11-01T09:36:44.048090Z",
     "start_time": "2021-11-01T09:36:44.033797Z"
    }
   },
   "outputs": [
    {
     "data": {
      "text/html": [
       "<div>\n",
       "<style scoped>\n",
       "    .dataframe tbody tr th:only-of-type {\n",
       "        vertical-align: middle;\n",
       "    }\n",
       "\n",
       "    .dataframe tbody tr th {\n",
       "        vertical-align: top;\n",
       "    }\n",
       "\n",
       "    .dataframe thead th {\n",
       "        text-align: right;\n",
       "    }\n",
       "</style>\n",
       "<table border=\"1\" class=\"dataframe\">\n",
       "  <thead>\n",
       "    <tr style=\"text-align: right;\">\n",
       "      <th></th>\n",
       "      <th>maintenance</th>\n",
       "      <th>doors</th>\n",
       "      <th>lug_boot</th>\n",
       "      <th>safety</th>\n",
       "      <th>class_value</th>\n",
       "    </tr>\n",
       "  </thead>\n",
       "  <tbody>\n",
       "    <tr>\n",
       "      <th>0</th>\n",
       "      <td>4</td>\n",
       "      <td>1</td>\n",
       "      <td>1</td>\n",
       "      <td>2</td>\n",
       "      <td>1</td>\n",
       "    </tr>\n",
       "    <tr>\n",
       "      <th>1</th>\n",
       "      <td>4</td>\n",
       "      <td>1</td>\n",
       "      <td>1</td>\n",
       "      <td>3</td>\n",
       "      <td>1</td>\n",
       "    </tr>\n",
       "    <tr>\n",
       "      <th>2</th>\n",
       "      <td>4</td>\n",
       "      <td>1</td>\n",
       "      <td>2</td>\n",
       "      <td>1</td>\n",
       "      <td>1</td>\n",
       "    </tr>\n",
       "    <tr>\n",
       "      <th>3</th>\n",
       "      <td>4</td>\n",
       "      <td>1</td>\n",
       "      <td>2</td>\n",
       "      <td>2</td>\n",
       "      <td>1</td>\n",
       "    </tr>\n",
       "    <tr>\n",
       "      <th>4</th>\n",
       "      <td>4</td>\n",
       "      <td>1</td>\n",
       "      <td>2</td>\n",
       "      <td>3</td>\n",
       "      <td>1</td>\n",
       "    </tr>\n",
       "  </tbody>\n",
       "</table>\n",
       "</div>"
      ],
      "text/plain": [
       "   maintenance  doors  lug_boot  safety  class_value\n",
       "0            4      1         1       2            1\n",
       "1            4      1         1       3            1\n",
       "2            4      1         2       1            1\n",
       "3            4      1         2       2            1\n",
       "4            4      1         2       3            1"
      ]
     },
     "execution_count": 26,
     "metadata": {},
     "output_type": "execute_result"
    }
   ],
   "source": [
    "X['maintenance'] = X['maintenance'].apply(maintenance_safety_encode)\n",
    "X['doors'] = X['doors'].apply(door_encode)\n",
    "X['lug_boot'] = X['lug_boot'].apply(lug_encode)\n",
    "X['safety'] = X['safety'].apply(maintenance_safety_encode)\n",
    "X['class_value'] = X['class_value'].apply(class_encode)\n",
    "X.head()"
   ]
  },
  {
   "cell_type": "code",
   "execution_count": 27,
   "metadata": {
    "ExecuteTime": {
     "end_time": "2021-11-01T09:36:44.831788Z",
     "start_time": "2021-11-01T09:36:44.347164Z"
    }
   },
   "outputs": [
    {
     "data": {
      "image/png": "[encoded data removed]",
      "text/plain": [
       "<Figure size 432x288 with 6 Axes>"
      ]
     },
     "metadata": {
      "needs_background": "light"
     },
     "output_type": "display_data"
    }
   ],
   "source": [
    "X.hist()\n",
    "plt.show()"
   ]
  },
  {
   "cell_type": "code",
   "execution_count": 28,
   "metadata": {
    "ExecuteTime": {
     "end_time": "2021-11-01T09:36:45.344169Z",
     "start_time": "2021-11-01T09:36:44.833629Z"
    }
   },
   "outputs": [
    {
     "data": {
      "image/png": "[encoded data removed]",
      "text/plain": [
       "<Figure size 432x288 with 6 Axes>"
      ]
     },
     "metadata": {
      "needs_background": "light"
     },
     "output_type": "display_data"
    }
   ],
   "source": [
    "import numpy as np\n",
    "\n",
    "X['class_value'] = X['class_value'].apply(lambda x: np.log(x+1))\n",
    "X.hist()\n",
    "\n",
    "plt.show()"
   ]
  },
  {
   "cell_type": "code",
   "execution_count": 29,
   "metadata": {
    "ExecuteTime": {
     "end_time": "2021-11-01T09:36:46.472029Z",
     "start_time": "2021-11-01T09:36:45.346895Z"
    }
   },
   "outputs": [
    {
     "data": {
      "text/html": [
       "<div>\n",
       "<style scoped>\n",
       "    .dataframe tbody tr th:only-of-type {\n",
       "        vertical-align: middle;\n",
       "    }\n",
       "\n",
       "    .dataframe tbody tr th {\n",
       "        vertical-align: top;\n",
       "    }\n",
       "\n",
       "    .dataframe thead th {\n",
       "        text-align: right;\n",
       "    }\n",
       "</style>\n",
       "<table border=\"1\" class=\"dataframe\">\n",
       "  <thead>\n",
       "    <tr style=\"text-align: right;\">\n",
       "      <th></th>\n",
       "      <th>maintenance</th>\n",
       "      <th>doors</th>\n",
       "      <th>lug_boot</th>\n",
       "      <th>safety</th>\n",
       "      <th>class_value</th>\n",
       "    </tr>\n",
       "  </thead>\n",
       "  <tbody>\n",
       "    <tr>\n",
       "      <th>count</th>\n",
       "      <td>1727.000000</td>\n",
       "      <td>1727.000000</td>\n",
       "      <td>1727.000000</td>\n",
       "      <td>1727.000000</td>\n",
       "      <td>1727.000000</td>\n",
       "    </tr>\n",
       "    <tr>\n",
       "      <th>mean</th>\n",
       "      <td>0.499710</td>\n",
       "      <td>0.500290</td>\n",
       "      <td>0.500290</td>\n",
       "      <td>0.500290</td>\n",
       "      <td>0.166253</td>\n",
       "    </tr>\n",
       "    <tr>\n",
       "      <th>std</th>\n",
       "      <td>0.372699</td>\n",
       "      <td>0.372699</td>\n",
       "      <td>0.408307</td>\n",
       "      <td>0.408307</td>\n",
       "      <td>0.276485</td>\n",
       "    </tr>\n",
       "    <tr>\n",
       "      <th>min</th>\n",
       "      <td>0.000000</td>\n",
       "      <td>0.000000</td>\n",
       "      <td>0.000000</td>\n",
       "      <td>0.000000</td>\n",
       "      <td>0.000000</td>\n",
       "    </tr>\n",
       "    <tr>\n",
       "      <th>25%</th>\n",
       "      <td>0.166667</td>\n",
       "      <td>0.333333</td>\n",
       "      <td>0.000000</td>\n",
       "      <td>0.000000</td>\n",
       "      <td>0.000000</td>\n",
       "    </tr>\n",
       "    <tr>\n",
       "      <th>50%</th>\n",
       "      <td>0.333333</td>\n",
       "      <td>0.666667</td>\n",
       "      <td>0.500000</td>\n",
       "      <td>0.500000</td>\n",
       "      <td>0.000000</td>\n",
       "    </tr>\n",
       "    <tr>\n",
       "      <th>75%</th>\n",
       "      <td>0.666667</td>\n",
       "      <td>0.833333</td>\n",
       "      <td>1.000000</td>\n",
       "      <td>1.000000</td>\n",
       "      <td>0.442507</td>\n",
       "    </tr>\n",
       "    <tr>\n",
       "      <th>max</th>\n",
       "      <td>1.000000</td>\n",
       "      <td>1.000000</td>\n",
       "      <td>1.000000</td>\n",
       "      <td>1.000000</td>\n",
       "      <td>1.000000</td>\n",
       "    </tr>\n",
       "  </tbody>\n",
       "</table>\n",
       "</div>"
      ],
      "text/plain": [
       "       maintenance        doors     lug_boot       safety  class_value\n",
       "count  1727.000000  1727.000000  1727.000000  1727.000000  1727.000000\n",
       "mean      0.499710     0.500290     0.500290     0.500290     0.166253\n",
       "std       0.372699     0.372699     0.408307     0.408307     0.276485\n",
       "min       0.000000     0.000000     0.000000     0.000000     0.000000\n",
       "25%       0.166667     0.333333     0.000000     0.000000     0.000000\n",
       "50%       0.333333     0.666667     0.500000     0.500000     0.000000\n",
       "75%       0.666667     0.833333     1.000000     1.000000     0.442507\n",
       "max       1.000000     1.000000     1.000000     1.000000     1.000000"
      ]
     },
     "execution_count": 29,
     "metadata": {},
     "output_type": "execute_result"
    }
   ],
   "source": [
    "from sklearn.preprocessing import MinMaxScaler\n",
    "scaler = MinMaxScaler()\n",
    "\n",
    "X = pd.DataFrame(scaler.fit_transform(X), columns=list(X))\n",
    "\n",
    "X.describe()"
   ]
  },
  {
   "cell_type": "code",
   "execution_count": 30,
   "metadata": {
    "ExecuteTime": {
     "end_time": "2021-11-01T09:36:46.502370Z",
     "start_time": "2021-11-01T09:36:46.473857Z"
    }
   },
   "outputs": [],
   "source": [
    "from sklearn.model_selection import train_test_split\n",
    "\n",
    "# Split dataset into training set and test set\n",
    "X_train, X_test, y_train, y_test = train_test_split(X, y, test_size=0.3, random_state=0) # 80% training and 20% test\n"
   ]
  },
  {
   "cell_type": "markdown",
   "metadata": {},
   "source": [
    "# Base Models"
   ]
  },
  {
   "cell_type": "code",
   "execution_count": 34,
   "metadata": {
    "ExecuteTime": {
     "end_time": "2021-11-01T09:39:02.238557Z",
     "start_time": "2021-11-01T09:39:02.234519Z"
    }
   },
   "outputs": [],
   "source": [
    "#Import scikit-learn metrics module for accuracy calculation\n",
    "from sklearn import metrics\n",
    "from sklearn.metrics import accuracy_score, f1_score, precision_score, recall_score, classification_report, confusion_matrix"
   ]
  },
  {
   "cell_type": "markdown",
   "metadata": {},
   "source": [
    "### Logistic Regression"
   ]
  },
  {
   "cell_type": "code",
   "execution_count": 35,
   "metadata": {
    "ExecuteTime": {
     "end_time": "2021-11-01T09:39:04.256819Z",
     "start_time": "2021-11-01T09:39:04.225867Z"
    }
   },
   "outputs": [
    {
     "name": "stderr",
     "output_type": "stream",
     "text": [
      "/Users/zentan/opt/anaconda3/lib/python3.7/site-packages/sklearn/utils/validation.py:72: DataConversionWarning: A column-vector y was passed when a 1d array was expected. Please change the shape of y to (n_samples, ), for example using ravel().\n",
      "  return f(**kwargs)\n"
     ]
    }
   ],
   "source": [
    "from sklearn.linear_model import LogisticRegression\n",
    "\n",
    "logreg = LogisticRegression(random_state = 100)\n",
    "logreg.fit(X_train, y_train)\n",
    "y_pred = logreg.predict(X_test)"
   ]
  },
  {
   "cell_type": "code",
   "execution_count": 36,
   "metadata": {
    "ExecuteTime": {
     "end_time": "2021-11-01T09:39:05.471361Z",
     "start_time": "2021-11-01T09:39:05.453738Z"
    }
   },
   "outputs": [
    {
     "name": "stdout",
     "output_type": "stream",
     "text": [
      "Accuracy: 0.3140655105973025\n",
      "F1 Score 0.24243704045473213\n",
      "Precision 0.2565921977627258\n",
      "Recall 0.3182764284061994\n"
     ]
    }
   ],
   "source": [
    "# Model Accuracy, how often is the classifier correct?\n",
    "print(\"Accuracy:\",metrics.accuracy_score(y_test, y_pred))\n",
    "print(\"F1 Score\", f1_score(y_test, y_pred, average=\"macro\"))\n",
    "print(\"Precision\", precision_score(y_test, y_pred, average=\"macro\"))\n",
    "print(\"Recall\", recall_score(y_test, y_pred, average=\"macro\"))"
   ]
  },
  {
   "cell_type": "markdown",
   "metadata": {},
   "source": [
    "### KNN"
   ]
  },
  {
   "cell_type": "code",
   "execution_count": 39,
   "metadata": {
    "ExecuteTime": {
     "end_time": "2021-11-01T09:39:14.593493Z",
     "start_time": "2021-11-01T09:39:14.566477Z"
    }
   },
   "outputs": [
    {
     "name": "stderr",
     "output_type": "stream",
     "text": [
      "/Users/zentan/opt/anaconda3/lib/python3.7/site-packages/ipykernel_launcher.py:4: DataConversionWarning: A column-vector y was passed when a 1d array was expected. Please change the shape of y to (n_samples, ), for example using ravel().\n",
      "  after removing the cwd from sys.path.\n"
     ]
    }
   ],
   "source": [
    "from sklearn.neighbors import KNeighborsClassifier\n",
    "\n",
    "classifier = KNeighborsClassifier(n_neighbors=5)\n",
    "classifier.fit(X_train, y_train)\n",
    "y_pred_knn = classifier.predict(X_test)"
   ]
  },
  {
   "cell_type": "code",
   "execution_count": 40,
   "metadata": {
    "ExecuteTime": {
     "end_time": "2021-11-01T09:39:15.905857Z",
     "start_time": "2021-11-01T09:39:15.886188Z"
    }
   },
   "outputs": [
    {
     "name": "stdout",
     "output_type": "stream",
     "text": [
      "Accuracy: 0.3140655105973025\n",
      "F1 Score 0.24243704045473213\n",
      "Precision 0.2565921977627258\n",
      "Recall 0.3182764284061994\n"
     ]
    }
   ],
   "source": [
    "# Model Accuracy, how often is the classifier correct?\n",
    "print(\"Accuracy:\",metrics.accuracy_score(y_test, y_pred))\n",
    "print(\"F1 Score\", f1_score(y_test, y_pred, average=\"macro\"))\n",
    "print(\"Precision\", precision_score(y_test, y_pred, average=\"macro\"))\n",
    "print(\"Recall\", recall_score(y_test, y_pred, average=\"macro\"))"
   ]
  },
  {
   "cell_type": "markdown",
   "metadata": {},
   "source": [
    "# Using pycaret to speed up the process"
   ]
  },
  {
   "cell_type": "code",
   "execution_count": 41,
   "metadata": {
    "ExecuteTime": {
     "end_time": "2021-11-01T09:39:18.512415Z",
     "start_time": "2021-11-01T09:39:18.495568Z"
    }
   },
   "outputs": [
    {
     "data": {
      "text/html": [
       "<div>\n",
       "<style scoped>\n",
       "    .dataframe tbody tr th:only-of-type {\n",
       "        vertical-align: middle;\n",
       "    }\n",
       "\n",
       "    .dataframe tbody tr th {\n",
       "        vertical-align: top;\n",
       "    }\n",
       "\n",
       "    .dataframe thead th {\n",
       "        text-align: right;\n",
       "    }\n",
       "</style>\n",
       "<table border=\"1\" class=\"dataframe\">\n",
       "  <thead>\n",
       "    <tr style=\"text-align: right;\">\n",
       "      <th></th>\n",
       "      <th>buying_price</th>\n",
       "      <th>maintenance</th>\n",
       "      <th>doors</th>\n",
       "      <th>lug_boot</th>\n",
       "      <th>safety</th>\n",
       "      <th>class_value</th>\n",
       "    </tr>\n",
       "  </thead>\n",
       "  <tbody>\n",
       "    <tr>\n",
       "      <th>0</th>\n",
       "      <td>vhigh</td>\n",
       "      <td>vhigh</td>\n",
       "      <td>2</td>\n",
       "      <td>small</td>\n",
       "      <td>med</td>\n",
       "      <td>unacc</td>\n",
       "    </tr>\n",
       "    <tr>\n",
       "      <th>1</th>\n",
       "      <td>vhigh</td>\n",
       "      <td>vhigh</td>\n",
       "      <td>2</td>\n",
       "      <td>small</td>\n",
       "      <td>high</td>\n",
       "      <td>unacc</td>\n",
       "    </tr>\n",
       "    <tr>\n",
       "      <th>2</th>\n",
       "      <td>vhigh</td>\n",
       "      <td>vhigh</td>\n",
       "      <td>2</td>\n",
       "      <td>med</td>\n",
       "      <td>low</td>\n",
       "      <td>unacc</td>\n",
       "    </tr>\n",
       "    <tr>\n",
       "      <th>3</th>\n",
       "      <td>vhigh</td>\n",
       "      <td>vhigh</td>\n",
       "      <td>2</td>\n",
       "      <td>med</td>\n",
       "      <td>med</td>\n",
       "      <td>unacc</td>\n",
       "    </tr>\n",
       "    <tr>\n",
       "      <th>4</th>\n",
       "      <td>vhigh</td>\n",
       "      <td>vhigh</td>\n",
       "      <td>2</td>\n",
       "      <td>med</td>\n",
       "      <td>high</td>\n",
       "      <td>unacc</td>\n",
       "    </tr>\n",
       "  </tbody>\n",
       "</table>\n",
       "</div>"
      ],
      "text/plain": [
       "  buying_price maintenance doors lug_boot safety class_value\n",
       "0        vhigh       vhigh     2    small    med       unacc\n",
       "1        vhigh       vhigh     2    small   high       unacc\n",
       "2        vhigh       vhigh     2      med    low       unacc\n",
       "3        vhigh       vhigh     2      med    med       unacc\n",
       "4        vhigh       vhigh     2      med   high       unacc"
      ]
     },
     "execution_count": 41,
     "metadata": {},
     "output_type": "execute_result"
    }
   ],
   "source": [
    "df_pycaret = pd.read_csv(\"car.data\")\n",
    "df_pycaret.columns = [\"buying_price\", \"maintenance\", \"doors\", \"persons\", \"lug_boot\", \"safety\", \"class_value\"]\n",
    "df_pycaret.drop(\"persons\", axis=1, inplace=True)\n",
    "df_pycaret.head()"
   ]
  },
  {
   "cell_type": "code",
   "execution_count": 42,
   "metadata": {
    "ExecuteTime": {
     "end_time": "2021-11-01T09:39:25.466155Z",
     "start_time": "2021-11-01T09:39:19.611367Z"
    }
   },
   "outputs": [
    {
     "data": {
      "text/html": [
       "<style  type=\"text/css\" >\n",
       "#T_99d4c25e_3af7_11ec_b9a0_acde48001122row0_col1,#T_99d4c25e_3af7_11ec_b9a0_acde48001122row44_col1{\n",
       "            background-color:  lightgreen;\n",
       "        }</style><table id=\"T_99d4c25e_3af7_11ec_b9a0_acde48001122\" ><thead>    <tr>        <th class=\"blank level0\" ></th>        <th class=\"col_heading level0 col0\" >Description</th>        <th class=\"col_heading level0 col1\" >Value</th>    </tr></thead><tbody>\n",
       "                <tr>\n",
       "                        <th id=\"T_99d4c25e_3af7_11ec_b9a0_acde48001122level0_row0\" class=\"row_heading level0 row0\" >0</th>\n",
       "                        <td id=\"T_99d4c25e_3af7_11ec_b9a0_acde48001122row0_col0\" class=\"data row0 col0\" >session_id</td>\n",
       "                        <td id=\"T_99d4c25e_3af7_11ec_b9a0_acde48001122row0_col1\" class=\"data row0 col1\" >1</td>\n",
       "            </tr>\n",
       "            <tr>\n",
       "                        <th id=\"T_99d4c25e_3af7_11ec_b9a0_acde48001122level0_row1\" class=\"row_heading level0 row1\" >1</th>\n",
       "                        <td id=\"T_99d4c25e_3af7_11ec_b9a0_acde48001122row1_col0\" class=\"data row1 col0\" >Target</td>\n",
       "                        <td id=\"T_99d4c25e_3af7_11ec_b9a0_acde48001122row1_col1\" class=\"data row1 col1\" >buying_price</td>\n",
       "            </tr>\n",
       "            <tr>\n",
       "                        <th id=\"T_99d4c25e_3af7_11ec_b9a0_acde48001122level0_row2\" class=\"row_heading level0 row2\" >2</th>\n",
       "                        <td id=\"T_99d4c25e_3af7_11ec_b9a0_acde48001122row2_col0\" class=\"data row2 col0\" >Target Type</td>\n",
       "                        <td id=\"T_99d4c25e_3af7_11ec_b9a0_acde48001122row2_col1\" class=\"data row2 col1\" >Multiclass</td>\n",
       "            </tr>\n",
       "            <tr>\n",
       "                        <th id=\"T_99d4c25e_3af7_11ec_b9a0_acde48001122level0_row3\" class=\"row_heading level0 row3\" >3</th>\n",
       "                        <td id=\"T_99d4c25e_3af7_11ec_b9a0_acde48001122row3_col0\" class=\"data row3 col0\" >Label Encoded</td>\n",
       "                        <td id=\"T_99d4c25e_3af7_11ec_b9a0_acde48001122row3_col1\" class=\"data row3 col1\" >high: 0, low: 1, med: 2, vhigh: 3</td>\n",
       "            </tr>\n",
       "            <tr>\n",
       "                        <th id=\"T_99d4c25e_3af7_11ec_b9a0_acde48001122level0_row4\" class=\"row_heading level0 row4\" >4</th>\n",
       "                        <td id=\"T_99d4c25e_3af7_11ec_b9a0_acde48001122row4_col0\" class=\"data row4 col0\" >Original Data</td>\n",
       "                        <td id=\"T_99d4c25e_3af7_11ec_b9a0_acde48001122row4_col1\" class=\"data row4 col1\" >(1727, 6)</td>\n",
       "            </tr>\n",
       "            <tr>\n",
       "                        <th id=\"T_99d4c25e_3af7_11ec_b9a0_acde48001122level0_row5\" class=\"row_heading level0 row5\" >5</th>\n",
       "                        <td id=\"T_99d4c25e_3af7_11ec_b9a0_acde48001122row5_col0\" class=\"data row5 col0\" >Missing Values</td>\n",
       "                        <td id=\"T_99d4c25e_3af7_11ec_b9a0_acde48001122row5_col1\" class=\"data row5 col1\" >False</td>\n",
       "            </tr>\n",
       "            <tr>\n",
       "                        <th id=\"T_99d4c25e_3af7_11ec_b9a0_acde48001122level0_row6\" class=\"row_heading level0 row6\" >6</th>\n",
       "                        <td id=\"T_99d4c25e_3af7_11ec_b9a0_acde48001122row6_col0\" class=\"data row6 col0\" >Numeric Features</td>\n",
       "                        <td id=\"T_99d4c25e_3af7_11ec_b9a0_acde48001122row6_col1\" class=\"data row6 col1\" >0</td>\n",
       "            </tr>\n",
       "            <tr>\n",
       "                        <th id=\"T_99d4c25e_3af7_11ec_b9a0_acde48001122level0_row7\" class=\"row_heading level0 row7\" >7</th>\n",
       "                        <td id=\"T_99d4c25e_3af7_11ec_b9a0_acde48001122row7_col0\" class=\"data row7 col0\" >Categorical Features</td>\n",
       "                        <td id=\"T_99d4c25e_3af7_11ec_b9a0_acde48001122row7_col1\" class=\"data row7 col1\" >5</td>\n",
       "            </tr>\n",
       "            <tr>\n",
       "                        <th id=\"T_99d4c25e_3af7_11ec_b9a0_acde48001122level0_row8\" class=\"row_heading level0 row8\" >8</th>\n",
       "                        <td id=\"T_99d4c25e_3af7_11ec_b9a0_acde48001122row8_col0\" class=\"data row8 col0\" >Ordinal Features</td>\n",
       "                        <td id=\"T_99d4c25e_3af7_11ec_b9a0_acde48001122row8_col1\" class=\"data row8 col1\" >False</td>\n",
       "            </tr>\n",
       "            <tr>\n",
       "                        <th id=\"T_99d4c25e_3af7_11ec_b9a0_acde48001122level0_row9\" class=\"row_heading level0 row9\" >9</th>\n",
       "                        <td id=\"T_99d4c25e_3af7_11ec_b9a0_acde48001122row9_col0\" class=\"data row9 col0\" >High Cardinality Features</td>\n",
       "                        <td id=\"T_99d4c25e_3af7_11ec_b9a0_acde48001122row9_col1\" class=\"data row9 col1\" >False</td>\n",
       "            </tr>\n",
       "            <tr>\n",
       "                        <th id=\"T_99d4c25e_3af7_11ec_b9a0_acde48001122level0_row10\" class=\"row_heading level0 row10\" >10</th>\n",
       "                        <td id=\"T_99d4c25e_3af7_11ec_b9a0_acde48001122row10_col0\" class=\"data row10 col0\" >High Cardinality Method</td>\n",
       "                        <td id=\"T_99d4c25e_3af7_11ec_b9a0_acde48001122row10_col1\" class=\"data row10 col1\" >None</td>\n",
       "            </tr>\n",
       "            <tr>\n",
       "                        <th id=\"T_99d4c25e_3af7_11ec_b9a0_acde48001122level0_row11\" class=\"row_heading level0 row11\" >11</th>\n",
       "                        <td id=\"T_99d4c25e_3af7_11ec_b9a0_acde48001122row11_col0\" class=\"data row11 col0\" >Transformed Train Set</td>\n",
       "                        <td id=\"T_99d4c25e_3af7_11ec_b9a0_acde48001122row11_col1\" class=\"data row11 col1\" >(1208, 18)</td>\n",
       "            </tr>\n",
       "            <tr>\n",
       "                        <th id=\"T_99d4c25e_3af7_11ec_b9a0_acde48001122level0_row12\" class=\"row_heading level0 row12\" >12</th>\n",
       "                        <td id=\"T_99d4c25e_3af7_11ec_b9a0_acde48001122row12_col0\" class=\"data row12 col0\" >Transformed Test Set</td>\n",
       "                        <td id=\"T_99d4c25e_3af7_11ec_b9a0_acde48001122row12_col1\" class=\"data row12 col1\" >(519, 18)</td>\n",
       "            </tr>\n",
       "            <tr>\n",
       "                        <th id=\"T_99d4c25e_3af7_11ec_b9a0_acde48001122level0_row13\" class=\"row_heading level0 row13\" >13</th>\n",
       "                        <td id=\"T_99d4c25e_3af7_11ec_b9a0_acde48001122row13_col0\" class=\"data row13 col0\" >Shuffle Train-Test</td>\n",
       "                        <td id=\"T_99d4c25e_3af7_11ec_b9a0_acde48001122row13_col1\" class=\"data row13 col1\" >True</td>\n",
       "            </tr>\n",
       "            <tr>\n",
       "                        <th id=\"T_99d4c25e_3af7_11ec_b9a0_acde48001122level0_row14\" class=\"row_heading level0 row14\" >14</th>\n",
       "                        <td id=\"T_99d4c25e_3af7_11ec_b9a0_acde48001122row14_col0\" class=\"data row14 col0\" >Stratify Train-Test</td>\n",
       "                        <td id=\"T_99d4c25e_3af7_11ec_b9a0_acde48001122row14_col1\" class=\"data row14 col1\" >False</td>\n",
       "            </tr>\n",
       "            <tr>\n",
       "                        <th id=\"T_99d4c25e_3af7_11ec_b9a0_acde48001122level0_row15\" class=\"row_heading level0 row15\" >15</th>\n",
       "                        <td id=\"T_99d4c25e_3af7_11ec_b9a0_acde48001122row15_col0\" class=\"data row15 col0\" >Fold Generator</td>\n",
       "                        <td id=\"T_99d4c25e_3af7_11ec_b9a0_acde48001122row15_col1\" class=\"data row15 col1\" >StratifiedKFold</td>\n",
       "            </tr>\n",
       "            <tr>\n",
       "                        <th id=\"T_99d4c25e_3af7_11ec_b9a0_acde48001122level0_row16\" class=\"row_heading level0 row16\" >16</th>\n",
       "                        <td id=\"T_99d4c25e_3af7_11ec_b9a0_acde48001122row16_col0\" class=\"data row16 col0\" >Fold Number</td>\n",
       "                        <td id=\"T_99d4c25e_3af7_11ec_b9a0_acde48001122row16_col1\" class=\"data row16 col1\" >10</td>\n",
       "            </tr>\n",
       "            <tr>\n",
       "                        <th id=\"T_99d4c25e_3af7_11ec_b9a0_acde48001122level0_row17\" class=\"row_heading level0 row17\" >17</th>\n",
       "                        <td id=\"T_99d4c25e_3af7_11ec_b9a0_acde48001122row17_col0\" class=\"data row17 col0\" >CPU Jobs</td>\n",
       "                        <td id=\"T_99d4c25e_3af7_11ec_b9a0_acde48001122row17_col1\" class=\"data row17 col1\" >-1</td>\n",
       "            </tr>\n",
       "            <tr>\n",
       "                        <th id=\"T_99d4c25e_3af7_11ec_b9a0_acde48001122level0_row18\" class=\"row_heading level0 row18\" >18</th>\n",
       "                        <td id=\"T_99d4c25e_3af7_11ec_b9a0_acde48001122row18_col0\" class=\"data row18 col0\" >Use GPU</td>\n",
       "                        <td id=\"T_99d4c25e_3af7_11ec_b9a0_acde48001122row18_col1\" class=\"data row18 col1\" >False</td>\n",
       "            </tr>\n",
       "            <tr>\n",
       "                        <th id=\"T_99d4c25e_3af7_11ec_b9a0_acde48001122level0_row19\" class=\"row_heading level0 row19\" >19</th>\n",
       "                        <td id=\"T_99d4c25e_3af7_11ec_b9a0_acde48001122row19_col0\" class=\"data row19 col0\" >Log Experiment</td>\n",
       "                        <td id=\"T_99d4c25e_3af7_11ec_b9a0_acde48001122row19_col1\" class=\"data row19 col1\" >False</td>\n",
       "            </tr>\n",
       "            <tr>\n",
       "                        <th id=\"T_99d4c25e_3af7_11ec_b9a0_acde48001122level0_row20\" class=\"row_heading level0 row20\" >20</th>\n",
       "                        <td id=\"T_99d4c25e_3af7_11ec_b9a0_acde48001122row20_col0\" class=\"data row20 col0\" >Experiment Name</td>\n",
       "                        <td id=\"T_99d4c25e_3af7_11ec_b9a0_acde48001122row20_col1\" class=\"data row20 col1\" >clf-default-name</td>\n",
       "            </tr>\n",
       "            <tr>\n",
       "                        <th id=\"T_99d4c25e_3af7_11ec_b9a0_acde48001122level0_row21\" class=\"row_heading level0 row21\" >21</th>\n",
       "                        <td id=\"T_99d4c25e_3af7_11ec_b9a0_acde48001122row21_col0\" class=\"data row21 col0\" >USI</td>\n",
       "                        <td id=\"T_99d4c25e_3af7_11ec_b9a0_acde48001122row21_col1\" class=\"data row21 col1\" >a3ca</td>\n",
       "            </tr>\n",
       "            <tr>\n",
       "                        <th id=\"T_99d4c25e_3af7_11ec_b9a0_acde48001122level0_row22\" class=\"row_heading level0 row22\" >22</th>\n",
       "                        <td id=\"T_99d4c25e_3af7_11ec_b9a0_acde48001122row22_col0\" class=\"data row22 col0\" >Imputation Type</td>\n",
       "                        <td id=\"T_99d4c25e_3af7_11ec_b9a0_acde48001122row22_col1\" class=\"data row22 col1\" >simple</td>\n",
       "            </tr>\n",
       "            <tr>\n",
       "                        <th id=\"T_99d4c25e_3af7_11ec_b9a0_acde48001122level0_row23\" class=\"row_heading level0 row23\" >23</th>\n",
       "                        <td id=\"T_99d4c25e_3af7_11ec_b9a0_acde48001122row23_col0\" class=\"data row23 col0\" >Iterative Imputation Iteration</td>\n",
       "                        <td id=\"T_99d4c25e_3af7_11ec_b9a0_acde48001122row23_col1\" class=\"data row23 col1\" >None</td>\n",
       "            </tr>\n",
       "            <tr>\n",
       "                        <th id=\"T_99d4c25e_3af7_11ec_b9a0_acde48001122level0_row24\" class=\"row_heading level0 row24\" >24</th>\n",
       "                        <td id=\"T_99d4c25e_3af7_11ec_b9a0_acde48001122row24_col0\" class=\"data row24 col0\" >Numeric Imputer</td>\n",
       "                        <td id=\"T_99d4c25e_3af7_11ec_b9a0_acde48001122row24_col1\" class=\"data row24 col1\" >mean</td>\n",
       "            </tr>\n",
       "            <tr>\n",
       "                        <th id=\"T_99d4c25e_3af7_11ec_b9a0_acde48001122level0_row25\" class=\"row_heading level0 row25\" >25</th>\n",
       "                        <td id=\"T_99d4c25e_3af7_11ec_b9a0_acde48001122row25_col0\" class=\"data row25 col0\" >Iterative Imputation Numeric Model</td>\n",
       "                        <td id=\"T_99d4c25e_3af7_11ec_b9a0_acde48001122row25_col1\" class=\"data row25 col1\" >None</td>\n",
       "            </tr>\n",
       "            <tr>\n",
       "                        <th id=\"T_99d4c25e_3af7_11ec_b9a0_acde48001122level0_row26\" class=\"row_heading level0 row26\" >26</th>\n",
       "                        <td id=\"T_99d4c25e_3af7_11ec_b9a0_acde48001122row26_col0\" class=\"data row26 col0\" >Categorical Imputer</td>\n",
       "                        <td id=\"T_99d4c25e_3af7_11ec_b9a0_acde48001122row26_col1\" class=\"data row26 col1\" >constant</td>\n",
       "            </tr>\n",
       "            <tr>\n",
       "                        <th id=\"T_99d4c25e_3af7_11ec_b9a0_acde48001122level0_row27\" class=\"row_heading level0 row27\" >27</th>\n",
       "                        <td id=\"T_99d4c25e_3af7_11ec_b9a0_acde48001122row27_col0\" class=\"data row27 col0\" >Iterative Imputation Categorical Model</td>\n",
       "                        <td id=\"T_99d4c25e_3af7_11ec_b9a0_acde48001122row27_col1\" class=\"data row27 col1\" >None</td>\n",
       "            </tr>\n",
       "            <tr>\n",
       "                        <th id=\"T_99d4c25e_3af7_11ec_b9a0_acde48001122level0_row28\" class=\"row_heading level0 row28\" >28</th>\n",
       "                        <td id=\"T_99d4c25e_3af7_11ec_b9a0_acde48001122row28_col0\" class=\"data row28 col0\" >Unknown Categoricals Handling</td>\n",
       "                        <td id=\"T_99d4c25e_3af7_11ec_b9a0_acde48001122row28_col1\" class=\"data row28 col1\" >least_frequent</td>\n",
       "            </tr>\n",
       "            <tr>\n",
       "                        <th id=\"T_99d4c25e_3af7_11ec_b9a0_acde48001122level0_row29\" class=\"row_heading level0 row29\" >29</th>\n",
       "                        <td id=\"T_99d4c25e_3af7_11ec_b9a0_acde48001122row29_col0\" class=\"data row29 col0\" >Normalize</td>\n",
       "                        <td id=\"T_99d4c25e_3af7_11ec_b9a0_acde48001122row29_col1\" class=\"data row29 col1\" >False</td>\n",
       "            </tr>\n",
       "            <tr>\n",
       "                        <th id=\"T_99d4c25e_3af7_11ec_b9a0_acde48001122level0_row30\" class=\"row_heading level0 row30\" >30</th>\n",
       "                        <td id=\"T_99d4c25e_3af7_11ec_b9a0_acde48001122row30_col0\" class=\"data row30 col0\" >Normalize Method</td>\n",
       "                        <td id=\"T_99d4c25e_3af7_11ec_b9a0_acde48001122row30_col1\" class=\"data row30 col1\" >None</td>\n",
       "            </tr>\n",
       "            <tr>\n",
       "                        <th id=\"T_99d4c25e_3af7_11ec_b9a0_acde48001122level0_row31\" class=\"row_heading level0 row31\" >31</th>\n",
       "                        <td id=\"T_99d4c25e_3af7_11ec_b9a0_acde48001122row31_col0\" class=\"data row31 col0\" >Transformation</td>\n",
       "                        <td id=\"T_99d4c25e_3af7_11ec_b9a0_acde48001122row31_col1\" class=\"data row31 col1\" >False</td>\n",
       "            </tr>\n",
       "            <tr>\n",
       "                        <th id=\"T_99d4c25e_3af7_11ec_b9a0_acde48001122level0_row32\" class=\"row_heading level0 row32\" >32</th>\n",
       "                        <td id=\"T_99d4c25e_3af7_11ec_b9a0_acde48001122row32_col0\" class=\"data row32 col0\" >Transformation Method</td>\n",
       "                        <td id=\"T_99d4c25e_3af7_11ec_b9a0_acde48001122row32_col1\" class=\"data row32 col1\" >None</td>\n",
       "            </tr>\n",
       "            <tr>\n",
       "                        <th id=\"T_99d4c25e_3af7_11ec_b9a0_acde48001122level0_row33\" class=\"row_heading level0 row33\" >33</th>\n",
       "                        <td id=\"T_99d4c25e_3af7_11ec_b9a0_acde48001122row33_col0\" class=\"data row33 col0\" >PCA</td>\n",
       "                        <td id=\"T_99d4c25e_3af7_11ec_b9a0_acde48001122row33_col1\" class=\"data row33 col1\" >False</td>\n",
       "            </tr>\n",
       "            <tr>\n",
       "                        <th id=\"T_99d4c25e_3af7_11ec_b9a0_acde48001122level0_row34\" class=\"row_heading level0 row34\" >34</th>\n",
       "                        <td id=\"T_99d4c25e_3af7_11ec_b9a0_acde48001122row34_col0\" class=\"data row34 col0\" >PCA Method</td>\n",
       "                        <td id=\"T_99d4c25e_3af7_11ec_b9a0_acde48001122row34_col1\" class=\"data row34 col1\" >None</td>\n",
       "            </tr>\n",
       "            <tr>\n",
       "                        <th id=\"T_99d4c25e_3af7_11ec_b9a0_acde48001122level0_row35\" class=\"row_heading level0 row35\" >35</th>\n",
       "                        <td id=\"T_99d4c25e_3af7_11ec_b9a0_acde48001122row35_col0\" class=\"data row35 col0\" >PCA Components</td>\n",
       "                        <td id=\"T_99d4c25e_3af7_11ec_b9a0_acde48001122row35_col1\" class=\"data row35 col1\" >None</td>\n",
       "            </tr>\n",
       "            <tr>\n",
       "                        <th id=\"T_99d4c25e_3af7_11ec_b9a0_acde48001122level0_row36\" class=\"row_heading level0 row36\" >36</th>\n",
       "                        <td id=\"T_99d4c25e_3af7_11ec_b9a0_acde48001122row36_col0\" class=\"data row36 col0\" >Ignore Low Variance</td>\n",
       "                        <td id=\"T_99d4c25e_3af7_11ec_b9a0_acde48001122row36_col1\" class=\"data row36 col1\" >False</td>\n",
       "            </tr>\n",
       "            <tr>\n",
       "                        <th id=\"T_99d4c25e_3af7_11ec_b9a0_acde48001122level0_row37\" class=\"row_heading level0 row37\" >37</th>\n",
       "                        <td id=\"T_99d4c25e_3af7_11ec_b9a0_acde48001122row37_col0\" class=\"data row37 col0\" >Combine Rare Levels</td>\n",
       "                        <td id=\"T_99d4c25e_3af7_11ec_b9a0_acde48001122row37_col1\" class=\"data row37 col1\" >False</td>\n",
       "            </tr>\n",
       "            <tr>\n",
       "                        <th id=\"T_99d4c25e_3af7_11ec_b9a0_acde48001122level0_row38\" class=\"row_heading level0 row38\" >38</th>\n",
       "                        <td id=\"T_99d4c25e_3af7_11ec_b9a0_acde48001122row38_col0\" class=\"data row38 col0\" >Rare Level Threshold</td>\n",
       "                        <td id=\"T_99d4c25e_3af7_11ec_b9a0_acde48001122row38_col1\" class=\"data row38 col1\" >None</td>\n",
       "            </tr>\n",
       "            <tr>\n",
       "                        <th id=\"T_99d4c25e_3af7_11ec_b9a0_acde48001122level0_row39\" class=\"row_heading level0 row39\" >39</th>\n",
       "                        <td id=\"T_99d4c25e_3af7_11ec_b9a0_acde48001122row39_col0\" class=\"data row39 col0\" >Numeric Binning</td>\n",
       "                        <td id=\"T_99d4c25e_3af7_11ec_b9a0_acde48001122row39_col1\" class=\"data row39 col1\" >False</td>\n",
       "            </tr>\n",
       "            <tr>\n",
       "                        <th id=\"T_99d4c25e_3af7_11ec_b9a0_acde48001122level0_row40\" class=\"row_heading level0 row40\" >40</th>\n",
       "                        <td id=\"T_99d4c25e_3af7_11ec_b9a0_acde48001122row40_col0\" class=\"data row40 col0\" >Remove Outliers</td>\n",
       "                        <td id=\"T_99d4c25e_3af7_11ec_b9a0_acde48001122row40_col1\" class=\"data row40 col1\" >False</td>\n",
       "            </tr>\n",
       "            <tr>\n",
       "                        <th id=\"T_99d4c25e_3af7_11ec_b9a0_acde48001122level0_row41\" class=\"row_heading level0 row41\" >41</th>\n",
       "                        <td id=\"T_99d4c25e_3af7_11ec_b9a0_acde48001122row41_col0\" class=\"data row41 col0\" >Outliers Threshold</td>\n",
       "                        <td id=\"T_99d4c25e_3af7_11ec_b9a0_acde48001122row41_col1\" class=\"data row41 col1\" >None</td>\n",
       "            </tr>\n",
       "            <tr>\n",
       "                        <th id=\"T_99d4c25e_3af7_11ec_b9a0_acde48001122level0_row42\" class=\"row_heading level0 row42\" >42</th>\n",
       "                        <td id=\"T_99d4c25e_3af7_11ec_b9a0_acde48001122row42_col0\" class=\"data row42 col0\" >Remove Multicollinearity</td>\n",
       "                        <td id=\"T_99d4c25e_3af7_11ec_b9a0_acde48001122row42_col1\" class=\"data row42 col1\" >False</td>\n",
       "            </tr>\n",
       "            <tr>\n",
       "                        <th id=\"T_99d4c25e_3af7_11ec_b9a0_acde48001122level0_row43\" class=\"row_heading level0 row43\" >43</th>\n",
       "                        <td id=\"T_99d4c25e_3af7_11ec_b9a0_acde48001122row43_col0\" class=\"data row43 col0\" >Multicollinearity Threshold</td>\n",
       "                        <td id=\"T_99d4c25e_3af7_11ec_b9a0_acde48001122row43_col1\" class=\"data row43 col1\" >None</td>\n",
       "            </tr>\n",
       "            <tr>\n",
       "                        <th id=\"T_99d4c25e_3af7_11ec_b9a0_acde48001122level0_row44\" class=\"row_heading level0 row44\" >44</th>\n",
       "                        <td id=\"T_99d4c25e_3af7_11ec_b9a0_acde48001122row44_col0\" class=\"data row44 col0\" >Remove Perfect Collinearity</td>\n",
       "                        <td id=\"T_99d4c25e_3af7_11ec_b9a0_acde48001122row44_col1\" class=\"data row44 col1\" >True</td>\n",
       "            </tr>\n",
       "            <tr>\n",
       "                        <th id=\"T_99d4c25e_3af7_11ec_b9a0_acde48001122level0_row45\" class=\"row_heading level0 row45\" >45</th>\n",
       "                        <td id=\"T_99d4c25e_3af7_11ec_b9a0_acde48001122row45_col0\" class=\"data row45 col0\" >Clustering</td>\n",
       "                        <td id=\"T_99d4c25e_3af7_11ec_b9a0_acde48001122row45_col1\" class=\"data row45 col1\" >False</td>\n",
       "            </tr>\n",
       "            <tr>\n",
       "                        <th id=\"T_99d4c25e_3af7_11ec_b9a0_acde48001122level0_row46\" class=\"row_heading level0 row46\" >46</th>\n",
       "                        <td id=\"T_99d4c25e_3af7_11ec_b9a0_acde48001122row46_col0\" class=\"data row46 col0\" >Clustering Iteration</td>\n",
       "                        <td id=\"T_99d4c25e_3af7_11ec_b9a0_acde48001122row46_col1\" class=\"data row46 col1\" >None</td>\n",
       "            </tr>\n",
       "            <tr>\n",
       "                        <th id=\"T_99d4c25e_3af7_11ec_b9a0_acde48001122level0_row47\" class=\"row_heading level0 row47\" >47</th>\n",
       "                        <td id=\"T_99d4c25e_3af7_11ec_b9a0_acde48001122row47_col0\" class=\"data row47 col0\" >Polynomial Features</td>\n",
       "                        <td id=\"T_99d4c25e_3af7_11ec_b9a0_acde48001122row47_col1\" class=\"data row47 col1\" >False</td>\n",
       "            </tr>\n",
       "            <tr>\n",
       "                        <th id=\"T_99d4c25e_3af7_11ec_b9a0_acde48001122level0_row48\" class=\"row_heading level0 row48\" >48</th>\n",
       "                        <td id=\"T_99d4c25e_3af7_11ec_b9a0_acde48001122row48_col0\" class=\"data row48 col0\" >Polynomial Degree</td>\n",
       "                        <td id=\"T_99d4c25e_3af7_11ec_b9a0_acde48001122row48_col1\" class=\"data row48 col1\" >None</td>\n",
       "            </tr>\n",
       "            <tr>\n",
       "                        <th id=\"T_99d4c25e_3af7_11ec_b9a0_acde48001122level0_row49\" class=\"row_heading level0 row49\" >49</th>\n",
       "                        <td id=\"T_99d4c25e_3af7_11ec_b9a0_acde48001122row49_col0\" class=\"data row49 col0\" >Trignometry Features</td>\n",
       "                        <td id=\"T_99d4c25e_3af7_11ec_b9a0_acde48001122row49_col1\" class=\"data row49 col1\" >False</td>\n",
       "            </tr>\n",
       "            <tr>\n",
       "                        <th id=\"T_99d4c25e_3af7_11ec_b9a0_acde48001122level0_row50\" class=\"row_heading level0 row50\" >50</th>\n",
       "                        <td id=\"T_99d4c25e_3af7_11ec_b9a0_acde48001122row50_col0\" class=\"data row50 col0\" >Polynomial Threshold</td>\n",
       "                        <td id=\"T_99d4c25e_3af7_11ec_b9a0_acde48001122row50_col1\" class=\"data row50 col1\" >None</td>\n",
       "            </tr>\n",
       "            <tr>\n",
       "                        <th id=\"T_99d4c25e_3af7_11ec_b9a0_acde48001122level0_row51\" class=\"row_heading level0 row51\" >51</th>\n",
       "                        <td id=\"T_99d4c25e_3af7_11ec_b9a0_acde48001122row51_col0\" class=\"data row51 col0\" >Group Features</td>\n",
       "                        <td id=\"T_99d4c25e_3af7_11ec_b9a0_acde48001122row51_col1\" class=\"data row51 col1\" >False</td>\n",
       "            </tr>\n",
       "            <tr>\n",
       "                        <th id=\"T_99d4c25e_3af7_11ec_b9a0_acde48001122level0_row52\" class=\"row_heading level0 row52\" >52</th>\n",
       "                        <td id=\"T_99d4c25e_3af7_11ec_b9a0_acde48001122row52_col0\" class=\"data row52 col0\" >Feature Selection</td>\n",
       "                        <td id=\"T_99d4c25e_3af7_11ec_b9a0_acde48001122row52_col1\" class=\"data row52 col1\" >False</td>\n",
       "            </tr>\n",
       "            <tr>\n",
       "                        <th id=\"T_99d4c25e_3af7_11ec_b9a0_acde48001122level0_row53\" class=\"row_heading level0 row53\" >53</th>\n",
       "                        <td id=\"T_99d4c25e_3af7_11ec_b9a0_acde48001122row53_col0\" class=\"data row53 col0\" >Feature Selection Method</td>\n",
       "                        <td id=\"T_99d4c25e_3af7_11ec_b9a0_acde48001122row53_col1\" class=\"data row53 col1\" >classic</td>\n",
       "            </tr>\n",
       "            <tr>\n",
       "                        <th id=\"T_99d4c25e_3af7_11ec_b9a0_acde48001122level0_row54\" class=\"row_heading level0 row54\" >54</th>\n",
       "                        <td id=\"T_99d4c25e_3af7_11ec_b9a0_acde48001122row54_col0\" class=\"data row54 col0\" >Features Selection Threshold</td>\n",
       "                        <td id=\"T_99d4c25e_3af7_11ec_b9a0_acde48001122row54_col1\" class=\"data row54 col1\" >None</td>\n",
       "            </tr>\n",
       "            <tr>\n",
       "                        <th id=\"T_99d4c25e_3af7_11ec_b9a0_acde48001122level0_row55\" class=\"row_heading level0 row55\" >55</th>\n",
       "                        <td id=\"T_99d4c25e_3af7_11ec_b9a0_acde48001122row55_col0\" class=\"data row55 col0\" >Feature Interaction</td>\n",
       "                        <td id=\"T_99d4c25e_3af7_11ec_b9a0_acde48001122row55_col1\" class=\"data row55 col1\" >False</td>\n",
       "            </tr>\n",
       "            <tr>\n",
       "                        <th id=\"T_99d4c25e_3af7_11ec_b9a0_acde48001122level0_row56\" class=\"row_heading level0 row56\" >56</th>\n",
       "                        <td id=\"T_99d4c25e_3af7_11ec_b9a0_acde48001122row56_col0\" class=\"data row56 col0\" >Feature Ratio</td>\n",
       "                        <td id=\"T_99d4c25e_3af7_11ec_b9a0_acde48001122row56_col1\" class=\"data row56 col1\" >False</td>\n",
       "            </tr>\n",
       "            <tr>\n",
       "                        <th id=\"T_99d4c25e_3af7_11ec_b9a0_acde48001122level0_row57\" class=\"row_heading level0 row57\" >57</th>\n",
       "                        <td id=\"T_99d4c25e_3af7_11ec_b9a0_acde48001122row57_col0\" class=\"data row57 col0\" >Interaction Threshold</td>\n",
       "                        <td id=\"T_99d4c25e_3af7_11ec_b9a0_acde48001122row57_col1\" class=\"data row57 col1\" >None</td>\n",
       "            </tr>\n",
       "            <tr>\n",
       "                        <th id=\"T_99d4c25e_3af7_11ec_b9a0_acde48001122level0_row58\" class=\"row_heading level0 row58\" >58</th>\n",
       "                        <td id=\"T_99d4c25e_3af7_11ec_b9a0_acde48001122row58_col0\" class=\"data row58 col0\" >Fix Imbalance</td>\n",
       "                        <td id=\"T_99d4c25e_3af7_11ec_b9a0_acde48001122row58_col1\" class=\"data row58 col1\" >False</td>\n",
       "            </tr>\n",
       "            <tr>\n",
       "                        <th id=\"T_99d4c25e_3af7_11ec_b9a0_acde48001122level0_row59\" class=\"row_heading level0 row59\" >59</th>\n",
       "                        <td id=\"T_99d4c25e_3af7_11ec_b9a0_acde48001122row59_col0\" class=\"data row59 col0\" >Fix Imbalance Method</td>\n",
       "                        <td id=\"T_99d4c25e_3af7_11ec_b9a0_acde48001122row59_col1\" class=\"data row59 col1\" >SMOTE</td>\n",
       "            </tr>\n",
       "    </tbody></table>"
      ],
      "text/plain": [
       "<pandas.io.formats.style.Styler at 0x7fa9bece3b90>"
      ]
     },
     "metadata": {},
     "output_type": "display_data"
    }
   ],
   "source": [
    "from pycaret.classification import * \n",
    "\n",
    "clf = setup(df_pycaret, target='buying_price', session_id=1)"
   ]
  },
  {
   "cell_type": "code",
   "execution_count": 43,
   "metadata": {
    "ExecuteTime": {
     "end_time": "2021-11-01T09:40:24.873443Z",
     "start_time": "2021-11-01T09:39:29.847953Z"
    },
    "scrolled": true
   },
   "outputs": [
    {
     "data": {
      "text/html": [
       "<style  type=\"text/css\" >\n",
       "    #T_bd484e86_3af7_11ec_b9a0_acde48001122 th {\n",
       "          text-align: left;\n",
       "    }#T_bd484e86_3af7_11ec_b9a0_acde48001122row0_col0,#T_bd484e86_3af7_11ec_b9a0_acde48001122row0_col2,#T_bd484e86_3af7_11ec_b9a0_acde48001122row0_col4,#T_bd484e86_3af7_11ec_b9a0_acde48001122row0_col5,#T_bd484e86_3af7_11ec_b9a0_acde48001122row1_col0,#T_bd484e86_3af7_11ec_b9a0_acde48001122row1_col1,#T_bd484e86_3af7_11ec_b9a0_acde48001122row1_col2,#T_bd484e86_3af7_11ec_b9a0_acde48001122row1_col3,#T_bd484e86_3af7_11ec_b9a0_acde48001122row1_col4,#T_bd484e86_3af7_11ec_b9a0_acde48001122row1_col6,#T_bd484e86_3af7_11ec_b9a0_acde48001122row1_col7,#T_bd484e86_3af7_11ec_b9a0_acde48001122row2_col0,#T_bd484e86_3af7_11ec_b9a0_acde48001122row2_col1,#T_bd484e86_3af7_11ec_b9a0_acde48001122row2_col2,#T_bd484e86_3af7_11ec_b9a0_acde48001122row2_col3,#T_bd484e86_3af7_11ec_b9a0_acde48001122row2_col4,#T_bd484e86_3af7_11ec_b9a0_acde48001122row2_col5,#T_bd484e86_3af7_11ec_b9a0_acde48001122row2_col6,#T_bd484e86_3af7_11ec_b9a0_acde48001122row2_col7,#T_bd484e86_3af7_11ec_b9a0_acde48001122row3_col0,#T_bd484e86_3af7_11ec_b9a0_acde48001122row3_col1,#T_bd484e86_3af7_11ec_b9a0_acde48001122row3_col2,#T_bd484e86_3af7_11ec_b9a0_acde48001122row3_col3,#T_bd484e86_3af7_11ec_b9a0_acde48001122row3_col5,#T_bd484e86_3af7_11ec_b9a0_acde48001122row3_col6,#T_bd484e86_3af7_11ec_b9a0_acde48001122row3_col7,#T_bd484e86_3af7_11ec_b9a0_acde48001122row4_col0,#T_bd484e86_3af7_11ec_b9a0_acde48001122row4_col1,#T_bd484e86_3af7_11ec_b9a0_acde48001122row4_col3,#T_bd484e86_3af7_11ec_b9a0_acde48001122row4_col4,#T_bd484e86_3af7_11ec_b9a0_acde48001122row4_col5,#T_bd484e86_3af7_11ec_b9a0_acde48001122row4_col6,#T_bd484e86_3af7_11ec_b9a0_acde48001122row4_col7,#T_bd484e86_3af7_11ec_b9a0_acde48001122row5_col0,#T_bd484e86_3af7_11ec_b9a0_acde48001122row5_col1,#T_bd484e86_3af7_11ec_b9a0_acde48001122row5_col2,#T_bd484e86_3af7_11ec_b9a0_acde48001122row5_col3,#T_bd484e86_3af7_11ec_b9a0_acde48001122row5_col4,#T_bd484e86_3af7_11ec_b9a0_acde48001122row5_col5,#T_bd484e86_3af7_11ec_b9a0_acde48001122row5_col6,#T_bd484e86_3af7_11ec_b9a0_acde48001122row5_col7,#T_bd484e86_3af7_11ec_b9a0_acde48001122row6_col0,#T_bd484e86_3af7_11ec_b9a0_acde48001122row6_col1,#T_bd484e86_3af7_11ec_b9a0_acde48001122row6_col2,#T_bd484e86_3af7_11ec_b9a0_acde48001122row6_col3,#T_bd484e86_3af7_11ec_b9a0_acde48001122row6_col4,#T_bd484e86_3af7_11ec_b9a0_acde48001122row6_col5,#T_bd484e86_3af7_11ec_b9a0_acde48001122row6_col6,#T_bd484e86_3af7_11ec_b9a0_acde48001122row6_col7,#T_bd484e86_3af7_11ec_b9a0_acde48001122row7_col0,#T_bd484e86_3af7_11ec_b9a0_acde48001122row7_col1,#T_bd484e86_3af7_11ec_b9a0_acde48001122row7_col2,#T_bd484e86_3af7_11ec_b9a0_acde48001122row7_col3,#T_bd484e86_3af7_11ec_b9a0_acde48001122row7_col4,#T_bd484e86_3af7_11ec_b9a0_acde48001122row7_col5,#T_bd484e86_3af7_11ec_b9a0_acde48001122row7_col6,#T_bd484e86_3af7_11ec_b9a0_acde48001122row7_col7,#T_bd484e86_3af7_11ec_b9a0_acde48001122row8_col0,#T_bd484e86_3af7_11ec_b9a0_acde48001122row8_col1,#T_bd484e86_3af7_11ec_b9a0_acde48001122row8_col2,#T_bd484e86_3af7_11ec_b9a0_acde48001122row8_col3,#T_bd484e86_3af7_11ec_b9a0_acde48001122row8_col4,#T_bd484e86_3af7_11ec_b9a0_acde48001122row8_col5,#T_bd484e86_3af7_11ec_b9a0_acde48001122row8_col6,#T_bd484e86_3af7_11ec_b9a0_acde48001122row8_col7,#T_bd484e86_3af7_11ec_b9a0_acde48001122row9_col0,#T_bd484e86_3af7_11ec_b9a0_acde48001122row9_col1,#T_bd484e86_3af7_11ec_b9a0_acde48001122row9_col2,#T_bd484e86_3af7_11ec_b9a0_acde48001122row9_col3,#T_bd484e86_3af7_11ec_b9a0_acde48001122row9_col4,#T_bd484e86_3af7_11ec_b9a0_acde48001122row9_col5,#T_bd484e86_3af7_11ec_b9a0_acde48001122row9_col6,#T_bd484e86_3af7_11ec_b9a0_acde48001122row9_col7,#T_bd484e86_3af7_11ec_b9a0_acde48001122row10_col0,#T_bd484e86_3af7_11ec_b9a0_acde48001122row10_col1,#T_bd484e86_3af7_11ec_b9a0_acde48001122row10_col2,#T_bd484e86_3af7_11ec_b9a0_acde48001122row10_col3,#T_bd484e86_3af7_11ec_b9a0_acde48001122row10_col4,#T_bd484e86_3af7_11ec_b9a0_acde48001122row10_col5,#T_bd484e86_3af7_11ec_b9a0_acde48001122row10_col6,#T_bd484e86_3af7_11ec_b9a0_acde48001122row10_col7,#T_bd484e86_3af7_11ec_b9a0_acde48001122row11_col0,#T_bd484e86_3af7_11ec_b9a0_acde48001122row11_col1,#T_bd484e86_3af7_11ec_b9a0_acde48001122row11_col2,#T_bd484e86_3af7_11ec_b9a0_acde48001122row11_col3,#T_bd484e86_3af7_11ec_b9a0_acde48001122row11_col4,#T_bd484e86_3af7_11ec_b9a0_acde48001122row11_col5,#T_bd484e86_3af7_11ec_b9a0_acde48001122row11_col6,#T_bd484e86_3af7_11ec_b9a0_acde48001122row11_col7,#T_bd484e86_3af7_11ec_b9a0_acde48001122row12_col0,#T_bd484e86_3af7_11ec_b9a0_acde48001122row12_col1,#T_bd484e86_3af7_11ec_b9a0_acde48001122row12_col2,#T_bd484e86_3af7_11ec_b9a0_acde48001122row12_col3,#T_bd484e86_3af7_11ec_b9a0_acde48001122row12_col4,#T_bd484e86_3af7_11ec_b9a0_acde48001122row12_col5,#T_bd484e86_3af7_11ec_b9a0_acde48001122row12_col6,#T_bd484e86_3af7_11ec_b9a0_acde48001122row12_col7,#T_bd484e86_3af7_11ec_b9a0_acde48001122row13_col0,#T_bd484e86_3af7_11ec_b9a0_acde48001122row13_col1,#T_bd484e86_3af7_11ec_b9a0_acde48001122row13_col2,#T_bd484e86_3af7_11ec_b9a0_acde48001122row13_col3,#T_bd484e86_3af7_11ec_b9a0_acde48001122row13_col4,#T_bd484e86_3af7_11ec_b9a0_acde48001122row13_col5,#T_bd484e86_3af7_11ec_b9a0_acde48001122row13_col6,#T_bd484e86_3af7_11ec_b9a0_acde48001122row13_col7{\n",
       "            text-align:  left;\n",
       "            text-align:  left;\n",
       "        }#T_bd484e86_3af7_11ec_b9a0_acde48001122row0_col1,#T_bd484e86_3af7_11ec_b9a0_acde48001122row0_col3,#T_bd484e86_3af7_11ec_b9a0_acde48001122row0_col6,#T_bd484e86_3af7_11ec_b9a0_acde48001122row0_col7,#T_bd484e86_3af7_11ec_b9a0_acde48001122row1_col5,#T_bd484e86_3af7_11ec_b9a0_acde48001122row3_col4,#T_bd484e86_3af7_11ec_b9a0_acde48001122row4_col2{\n",
       "            text-align:  left;\n",
       "            text-align:  left;\n",
       "            background-color:  yellow;\n",
       "        }#T_bd484e86_3af7_11ec_b9a0_acde48001122row0_col8,#T_bd484e86_3af7_11ec_b9a0_acde48001122row1_col8,#T_bd484e86_3af7_11ec_b9a0_acde48001122row3_col8,#T_bd484e86_3af7_11ec_b9a0_acde48001122row4_col8,#T_bd484e86_3af7_11ec_b9a0_acde48001122row5_col8,#T_bd484e86_3af7_11ec_b9a0_acde48001122row6_col8,#T_bd484e86_3af7_11ec_b9a0_acde48001122row7_col8,#T_bd484e86_3af7_11ec_b9a0_acde48001122row8_col8,#T_bd484e86_3af7_11ec_b9a0_acde48001122row9_col8,#T_bd484e86_3af7_11ec_b9a0_acde48001122row10_col8,#T_bd484e86_3af7_11ec_b9a0_acde48001122row11_col8,#T_bd484e86_3af7_11ec_b9a0_acde48001122row12_col8,#T_bd484e86_3af7_11ec_b9a0_acde48001122row13_col8{\n",
       "            text-align:  left;\n",
       "            text-align:  left;\n",
       "            background-color:  lightgrey;\n",
       "        }#T_bd484e86_3af7_11ec_b9a0_acde48001122row2_col8{\n",
       "            text-align:  left;\n",
       "            text-align:  left;\n",
       "            background-color:  yellow;\n",
       "            background-color:  lightgrey;\n",
       "        }</style><table id=\"T_bd484e86_3af7_11ec_b9a0_acde48001122\" ><thead>    <tr>        <th class=\"blank level0\" ></th>        <th class=\"col_heading level0 col0\" >Model</th>        <th class=\"col_heading level0 col1\" >Accuracy</th>        <th class=\"col_heading level0 col2\" >AUC</th>        <th class=\"col_heading level0 col3\" >Recall</th>        <th class=\"col_heading level0 col4\" >Prec.</th>        <th class=\"col_heading level0 col5\" >F1</th>        <th class=\"col_heading level0 col6\" >Kappa</th>        <th class=\"col_heading level0 col7\" >MCC</th>        <th class=\"col_heading level0 col8\" >TT (Sec)</th>    </tr></thead><tbody>\n",
       "                <tr>\n",
       "                        <th id=\"T_bd484e86_3af7_11ec_b9a0_acde48001122level0_row0\" class=\"row_heading level0 row0\" >nb</th>\n",
       "                        <td id=\"T_bd484e86_3af7_11ec_b9a0_acde48001122row0_col0\" class=\"data row0 col0\" >Naive Bayes</td>\n",
       "                        <td id=\"T_bd484e86_3af7_11ec_b9a0_acde48001122row0_col1\" class=\"data row0 col1\" >0.3179</td>\n",
       "                        <td id=\"T_bd484e86_3af7_11ec_b9a0_acde48001122row0_col2\" class=\"data row0 col2\" >0.5404</td>\n",
       "                        <td id=\"T_bd484e86_3af7_11ec_b9a0_acde48001122row0_col3\" class=\"data row0 col3\" >0.3180</td>\n",
       "                        <td id=\"T_bd484e86_3af7_11ec_b9a0_acde48001122row0_col4\" class=\"data row0 col4\" >0.3047</td>\n",
       "                        <td id=\"T_bd484e86_3af7_11ec_b9a0_acde48001122row0_col5\" class=\"data row0 col5\" >0.2500</td>\n",
       "                        <td id=\"T_bd484e86_3af7_11ec_b9a0_acde48001122row0_col6\" class=\"data row0 col6\" >0.0900</td>\n",
       "                        <td id=\"T_bd484e86_3af7_11ec_b9a0_acde48001122row0_col7\" class=\"data row0 col7\" >0.1123</td>\n",
       "                        <td id=\"T_bd484e86_3af7_11ec_b9a0_acde48001122row0_col8\" class=\"data row0 col8\" >0.1650</td>\n",
       "            </tr>\n",
       "            <tr>\n",
       "                        <th id=\"T_bd484e86_3af7_11ec_b9a0_acde48001122level0_row1\" class=\"row_heading level0 row1\" >ada</th>\n",
       "                        <td id=\"T_bd484e86_3af7_11ec_b9a0_acde48001122row1_col0\" class=\"data row1 col0\" >Ada Boost Classifier</td>\n",
       "                        <td id=\"T_bd484e86_3af7_11ec_b9a0_acde48001122row1_col1\" class=\"data row1 col1\" >0.3162</td>\n",
       "                        <td id=\"T_bd484e86_3af7_11ec_b9a0_acde48001122row1_col2\" class=\"data row1 col2\" >0.5757</td>\n",
       "                        <td id=\"T_bd484e86_3af7_11ec_b9a0_acde48001122row1_col3\" class=\"data row1 col3\" >0.3153</td>\n",
       "                        <td id=\"T_bd484e86_3af7_11ec_b9a0_acde48001122row1_col4\" class=\"data row1 col4\" >0.3701</td>\n",
       "                        <td id=\"T_bd484e86_3af7_11ec_b9a0_acde48001122row1_col5\" class=\"data row1 col5\" >0.3063</td>\n",
       "                        <td id=\"T_bd484e86_3af7_11ec_b9a0_acde48001122row1_col6\" class=\"data row1 col6\" >0.0863</td>\n",
       "                        <td id=\"T_bd484e86_3af7_11ec_b9a0_acde48001122row1_col7\" class=\"data row1 col7\" >0.0903</td>\n",
       "                        <td id=\"T_bd484e86_3af7_11ec_b9a0_acde48001122row1_col8\" class=\"data row1 col8\" >0.0240</td>\n",
       "            </tr>\n",
       "            <tr>\n",
       "                        <th id=\"T_bd484e86_3af7_11ec_b9a0_acde48001122level0_row2\" class=\"row_heading level0 row2\" >ridge</th>\n",
       "                        <td id=\"T_bd484e86_3af7_11ec_b9a0_acde48001122row2_col0\" class=\"data row2 col0\" >Ridge Classifier</td>\n",
       "                        <td id=\"T_bd484e86_3af7_11ec_b9a0_acde48001122row2_col1\" class=\"data row2 col1\" >0.3129</td>\n",
       "                        <td id=\"T_bd484e86_3af7_11ec_b9a0_acde48001122row2_col2\" class=\"data row2 col2\" >0.0000</td>\n",
       "                        <td id=\"T_bd484e86_3af7_11ec_b9a0_acde48001122row2_col3\" class=\"data row2 col3\" >0.3123</td>\n",
       "                        <td id=\"T_bd484e86_3af7_11ec_b9a0_acde48001122row2_col4\" class=\"data row2 col4\" >0.3435</td>\n",
       "                        <td id=\"T_bd484e86_3af7_11ec_b9a0_acde48001122row2_col5\" class=\"data row2 col5\" >0.2963</td>\n",
       "                        <td id=\"T_bd484e86_3af7_11ec_b9a0_acde48001122row2_col6\" class=\"data row2 col6\" >0.0824</td>\n",
       "                        <td id=\"T_bd484e86_3af7_11ec_b9a0_acde48001122row2_col7\" class=\"data row2 col7\" >0.0875</td>\n",
       "                        <td id=\"T_bd484e86_3af7_11ec_b9a0_acde48001122row2_col8\" class=\"data row2 col8\" >0.0050</td>\n",
       "            </tr>\n",
       "            <tr>\n",
       "                        <th id=\"T_bd484e86_3af7_11ec_b9a0_acde48001122level0_row3\" class=\"row_heading level0 row3\" >lda</th>\n",
       "                        <td id=\"T_bd484e86_3af7_11ec_b9a0_acde48001122row3_col0\" class=\"data row3 col0\" >Linear Discriminant Analysis</td>\n",
       "                        <td id=\"T_bd484e86_3af7_11ec_b9a0_acde48001122row3_col1\" class=\"data row3 col1\" >0.3121</td>\n",
       "                        <td id=\"T_bd484e86_3af7_11ec_b9a0_acde48001122row3_col2\" class=\"data row3 col2\" >0.5750</td>\n",
       "                        <td id=\"T_bd484e86_3af7_11ec_b9a0_acde48001122row3_col3\" class=\"data row3 col3\" >0.3111</td>\n",
       "                        <td id=\"T_bd484e86_3af7_11ec_b9a0_acde48001122row3_col4\" class=\"data row3 col4\" >0.3702</td>\n",
       "                        <td id=\"T_bd484e86_3af7_11ec_b9a0_acde48001122row3_col5\" class=\"data row3 col5\" >0.2985</td>\n",
       "                        <td id=\"T_bd484e86_3af7_11ec_b9a0_acde48001122row3_col6\" class=\"data row3 col6\" >0.0808</td>\n",
       "                        <td id=\"T_bd484e86_3af7_11ec_b9a0_acde48001122row3_col7\" class=\"data row3 col7\" >0.0855</td>\n",
       "                        <td id=\"T_bd484e86_3af7_11ec_b9a0_acde48001122row3_col8\" class=\"data row3 col8\" >0.0060</td>\n",
       "            </tr>\n",
       "            <tr>\n",
       "                        <th id=\"T_bd484e86_3af7_11ec_b9a0_acde48001122level0_row4\" class=\"row_heading level0 row4\" >lr</th>\n",
       "                        <td id=\"T_bd484e86_3af7_11ec_b9a0_acde48001122row4_col0\" class=\"data row4 col0\" >Logistic Regression</td>\n",
       "                        <td id=\"T_bd484e86_3af7_11ec_b9a0_acde48001122row4_col1\" class=\"data row4 col1\" >0.3055</td>\n",
       "                        <td id=\"T_bd484e86_3af7_11ec_b9a0_acde48001122row4_col2\" class=\"data row4 col2\" >0.5763</td>\n",
       "                        <td id=\"T_bd484e86_3af7_11ec_b9a0_acde48001122row4_col3\" class=\"data row4 col3\" >0.3050</td>\n",
       "                        <td id=\"T_bd484e86_3af7_11ec_b9a0_acde48001122row4_col4\" class=\"data row4 col4\" >0.3311</td>\n",
       "                        <td id=\"T_bd484e86_3af7_11ec_b9a0_acde48001122row4_col5\" class=\"data row4 col5\" >0.2925</td>\n",
       "                        <td id=\"T_bd484e86_3af7_11ec_b9a0_acde48001122row4_col6\" class=\"data row4 col6\" >0.0726</td>\n",
       "                        <td id=\"T_bd484e86_3af7_11ec_b9a0_acde48001122row4_col7\" class=\"data row4 col7\" >0.0764</td>\n",
       "                        <td id=\"T_bd484e86_3af7_11ec_b9a0_acde48001122row4_col8\" class=\"data row4 col8\" >0.6340</td>\n",
       "            </tr>\n",
       "            <tr>\n",
       "                        <th id=\"T_bd484e86_3af7_11ec_b9a0_acde48001122level0_row5\" class=\"row_heading level0 row5\" >svm</th>\n",
       "                        <td id=\"T_bd484e86_3af7_11ec_b9a0_acde48001122row5_col0\" class=\"data row5 col0\" >SVM - Linear Kernel</td>\n",
       "                        <td id=\"T_bd484e86_3af7_11ec_b9a0_acde48001122row5_col1\" class=\"data row5 col1\" >0.2848</td>\n",
       "                        <td id=\"T_bd484e86_3af7_11ec_b9a0_acde48001122row5_col2\" class=\"data row5 col2\" >0.0000</td>\n",
       "                        <td id=\"T_bd484e86_3af7_11ec_b9a0_acde48001122row5_col3\" class=\"data row5 col3\" >0.2844</td>\n",
       "                        <td id=\"T_bd484e86_3af7_11ec_b9a0_acde48001122row5_col4\" class=\"data row5 col4\" >0.2906</td>\n",
       "                        <td id=\"T_bd484e86_3af7_11ec_b9a0_acde48001122row5_col5\" class=\"data row5 col5\" >0.2422</td>\n",
       "                        <td id=\"T_bd484e86_3af7_11ec_b9a0_acde48001122row5_col6\" class=\"data row5 col6\" >0.0454</td>\n",
       "                        <td id=\"T_bd484e86_3af7_11ec_b9a0_acde48001122row5_col7\" class=\"data row5 col7\" >0.0572</td>\n",
       "                        <td id=\"T_bd484e86_3af7_11ec_b9a0_acde48001122row5_col8\" class=\"data row5 col8\" >0.1520</td>\n",
       "            </tr>\n",
       "            <tr>\n",
       "                        <th id=\"T_bd484e86_3af7_11ec_b9a0_acde48001122level0_row6\" class=\"row_heading level0 row6\" >gbc</th>\n",
       "                        <td id=\"T_bd484e86_3af7_11ec_b9a0_acde48001122row6_col0\" class=\"data row6 col0\" >Gradient Boosting Classifier</td>\n",
       "                        <td id=\"T_bd484e86_3af7_11ec_b9a0_acde48001122row6_col1\" class=\"data row6 col1\" >0.2583</td>\n",
       "                        <td id=\"T_bd484e86_3af7_11ec_b9a0_acde48001122row6_col2\" class=\"data row6 col2\" >0.5740</td>\n",
       "                        <td id=\"T_bd484e86_3af7_11ec_b9a0_acde48001122row6_col3\" class=\"data row6 col3\" >0.2586</td>\n",
       "                        <td id=\"T_bd484e86_3af7_11ec_b9a0_acde48001122row6_col4\" class=\"data row6 col4\" >0.2818</td>\n",
       "                        <td id=\"T_bd484e86_3af7_11ec_b9a0_acde48001122row6_col5\" class=\"data row6 col5\" >0.2581</td>\n",
       "                        <td id=\"T_bd484e86_3af7_11ec_b9a0_acde48001122row6_col6\" class=\"data row6 col6\" >0.0100</td>\n",
       "                        <td id=\"T_bd484e86_3af7_11ec_b9a0_acde48001122row6_col7\" class=\"data row6 col7\" >0.0097</td>\n",
       "                        <td id=\"T_bd484e86_3af7_11ec_b9a0_acde48001122row6_col8\" class=\"data row6 col8\" >0.0770</td>\n",
       "            </tr>\n",
       "            <tr>\n",
       "                        <th id=\"T_bd484e86_3af7_11ec_b9a0_acde48001122level0_row7\" class=\"row_heading level0 row7\" >qda</th>\n",
       "                        <td id=\"T_bd484e86_3af7_11ec_b9a0_acde48001122row7_col0\" class=\"data row7 col0\" >Quadratic Discriminant Analysis</td>\n",
       "                        <td id=\"T_bd484e86_3af7_11ec_b9a0_acde48001122row7_col1\" class=\"data row7 col1\" >0.2517</td>\n",
       "                        <td id=\"T_bd484e86_3af7_11ec_b9a0_acde48001122row7_col2\" class=\"data row7 col2\" >0.0000</td>\n",
       "                        <td id=\"T_bd484e86_3af7_11ec_b9a0_acde48001122row7_col3\" class=\"data row7 col3\" >0.2500</td>\n",
       "                        <td id=\"T_bd484e86_3af7_11ec_b9a0_acde48001122row7_col4\" class=\"data row7 col4\" >0.0633</td>\n",
       "                        <td id=\"T_bd484e86_3af7_11ec_b9a0_acde48001122row7_col5\" class=\"data row7 col5\" >0.1012</td>\n",
       "                        <td id=\"T_bd484e86_3af7_11ec_b9a0_acde48001122row7_col6\" class=\"data row7 col6\" >0.0000</td>\n",
       "                        <td id=\"T_bd484e86_3af7_11ec_b9a0_acde48001122row7_col7\" class=\"data row7 col7\" >0.0000</td>\n",
       "                        <td id=\"T_bd484e86_3af7_11ec_b9a0_acde48001122row7_col8\" class=\"data row7 col8\" >0.0160</td>\n",
       "            </tr>\n",
       "            <tr>\n",
       "                        <th id=\"T_bd484e86_3af7_11ec_b9a0_acde48001122level0_row8\" class=\"row_heading level0 row8\" >knn</th>\n",
       "                        <td id=\"T_bd484e86_3af7_11ec_b9a0_acde48001122row8_col0\" class=\"data row8 col0\" >K Neighbors Classifier</td>\n",
       "                        <td id=\"T_bd484e86_3af7_11ec_b9a0_acde48001122row8_col1\" class=\"data row8 col1\" >0.1963</td>\n",
       "                        <td id=\"T_bd484e86_3af7_11ec_b9a0_acde48001122row8_col2\" class=\"data row8 col2\" >0.4402</td>\n",
       "                        <td id=\"T_bd484e86_3af7_11ec_b9a0_acde48001122row8_col3\" class=\"data row8 col3\" >0.1965</td>\n",
       "                        <td id=\"T_bd484e86_3af7_11ec_b9a0_acde48001122row8_col4\" class=\"data row8 col4\" >0.1978</td>\n",
       "                        <td id=\"T_bd484e86_3af7_11ec_b9a0_acde48001122row8_col5\" class=\"data row8 col5\" >0.1934</td>\n",
       "                        <td id=\"T_bd484e86_3af7_11ec_b9a0_acde48001122row8_col6\" class=\"data row8 col6\" >-0.0719</td>\n",
       "                        <td id=\"T_bd484e86_3af7_11ec_b9a0_acde48001122row8_col7\" class=\"data row8 col7\" >-0.0726</td>\n",
       "                        <td id=\"T_bd484e86_3af7_11ec_b9a0_acde48001122row8_col8\" class=\"data row8 col8\" >0.1890</td>\n",
       "            </tr>\n",
       "            <tr>\n",
       "                        <th id=\"T_bd484e86_3af7_11ec_b9a0_acde48001122level0_row9\" class=\"row_heading level0 row9\" >lightgbm</th>\n",
       "                        <td id=\"T_bd484e86_3af7_11ec_b9a0_acde48001122row9_col0\" class=\"data row9 col0\" >Light Gradient Boosting Machine</td>\n",
       "                        <td id=\"T_bd484e86_3af7_11ec_b9a0_acde48001122row9_col1\" class=\"data row9 col1\" >0.1871</td>\n",
       "                        <td id=\"T_bd484e86_3af7_11ec_b9a0_acde48001122row9_col2\" class=\"data row9 col2\" >0.4956</td>\n",
       "                        <td id=\"T_bd484e86_3af7_11ec_b9a0_acde48001122row9_col3\" class=\"data row9 col3\" >0.1877</td>\n",
       "                        <td id=\"T_bd484e86_3af7_11ec_b9a0_acde48001122row9_col4\" class=\"data row9 col4\" >0.1906</td>\n",
       "                        <td id=\"T_bd484e86_3af7_11ec_b9a0_acde48001122row9_col5\" class=\"data row9 col5\" >0.1864</td>\n",
       "                        <td id=\"T_bd484e86_3af7_11ec_b9a0_acde48001122row9_col6\" class=\"data row9 col6\" >-0.0842</td>\n",
       "                        <td id=\"T_bd484e86_3af7_11ec_b9a0_acde48001122row9_col7\" class=\"data row9 col7\" >-0.0849</td>\n",
       "                        <td id=\"T_bd484e86_3af7_11ec_b9a0_acde48001122row9_col8\" class=\"data row9 col8\" >2.5250</td>\n",
       "            </tr>\n",
       "            <tr>\n",
       "                        <th id=\"T_bd484e86_3af7_11ec_b9a0_acde48001122level0_row10\" class=\"row_heading level0 row10\" >xgboost</th>\n",
       "                        <td id=\"T_bd484e86_3af7_11ec_b9a0_acde48001122row10_col0\" class=\"data row10 col0\" >Extreme Gradient Boosting</td>\n",
       "                        <td id=\"T_bd484e86_3af7_11ec_b9a0_acde48001122row10_col1\" class=\"data row10 col1\" >0.1722</td>\n",
       "                        <td id=\"T_bd484e86_3af7_11ec_b9a0_acde48001122row10_col2\" class=\"data row10 col2\" >0.4595</td>\n",
       "                        <td id=\"T_bd484e86_3af7_11ec_b9a0_acde48001122row10_col3\" class=\"data row10 col3\" >0.1728</td>\n",
       "                        <td id=\"T_bd484e86_3af7_11ec_b9a0_acde48001122row10_col4\" class=\"data row10 col4\" >0.1768</td>\n",
       "                        <td id=\"T_bd484e86_3af7_11ec_b9a0_acde48001122row10_col5\" class=\"data row10 col5\" >0.1722</td>\n",
       "                        <td id=\"T_bd484e86_3af7_11ec_b9a0_acde48001122row10_col6\" class=\"data row10 col6\" >-0.1041</td>\n",
       "                        <td id=\"T_bd484e86_3af7_11ec_b9a0_acde48001122row10_col7\" class=\"data row10 col7\" >-0.1051</td>\n",
       "                        <td id=\"T_bd484e86_3af7_11ec_b9a0_acde48001122row10_col8\" class=\"data row10 col8\" >1.2720</td>\n",
       "            </tr>\n",
       "            <tr>\n",
       "                        <th id=\"T_bd484e86_3af7_11ec_b9a0_acde48001122level0_row11\" class=\"row_heading level0 row11\" >dt</th>\n",
       "                        <td id=\"T_bd484e86_3af7_11ec_b9a0_acde48001122row11_col0\" class=\"data row11 col0\" >Decision Tree Classifier</td>\n",
       "                        <td id=\"T_bd484e86_3af7_11ec_b9a0_acde48001122row11_col1\" class=\"data row11 col1\" >0.1681</td>\n",
       "                        <td id=\"T_bd484e86_3af7_11ec_b9a0_acde48001122row11_col2\" class=\"data row11 col2\" >0.4297</td>\n",
       "                        <td id=\"T_bd484e86_3af7_11ec_b9a0_acde48001122row11_col3\" class=\"data row11 col3\" >0.1689</td>\n",
       "                        <td id=\"T_bd484e86_3af7_11ec_b9a0_acde48001122row11_col4\" class=\"data row11 col4\" >0.1545</td>\n",
       "                        <td id=\"T_bd484e86_3af7_11ec_b9a0_acde48001122row11_col5\" class=\"data row11 col5\" >0.1553</td>\n",
       "                        <td id=\"T_bd484e86_3af7_11ec_b9a0_acde48001122row11_col6\" class=\"data row11 col6\" >-0.1091</td>\n",
       "                        <td id=\"T_bd484e86_3af7_11ec_b9a0_acde48001122row11_col7\" class=\"data row11 col7\" >-0.1122</td>\n",
       "                        <td id=\"T_bd484e86_3af7_11ec_b9a0_acde48001122row11_col8\" class=\"data row11 col8\" >0.0060</td>\n",
       "            </tr>\n",
       "            <tr>\n",
       "                        <th id=\"T_bd484e86_3af7_11ec_b9a0_acde48001122level0_row12\" class=\"row_heading level0 row12\" >et</th>\n",
       "                        <td id=\"T_bd484e86_3af7_11ec_b9a0_acde48001122row12_col0\" class=\"data row12 col0\" >Extra Trees Classifier</td>\n",
       "                        <td id=\"T_bd484e86_3af7_11ec_b9a0_acde48001122row12_col1\" class=\"data row12 col1\" >0.1656</td>\n",
       "                        <td id=\"T_bd484e86_3af7_11ec_b9a0_acde48001122row12_col2\" class=\"data row12 col2\" >0.4248</td>\n",
       "                        <td id=\"T_bd484e86_3af7_11ec_b9a0_acde48001122row12_col3\" class=\"data row12 col3\" >0.1664</td>\n",
       "                        <td id=\"T_bd484e86_3af7_11ec_b9a0_acde48001122row12_col4\" class=\"data row12 col4\" >0.1537</td>\n",
       "                        <td id=\"T_bd484e86_3af7_11ec_b9a0_acde48001122row12_col5\" class=\"data row12 col5\" >0.1538</td>\n",
       "                        <td id=\"T_bd484e86_3af7_11ec_b9a0_acde48001122row12_col6\" class=\"data row12 col6\" >-0.1124</td>\n",
       "                        <td id=\"T_bd484e86_3af7_11ec_b9a0_acde48001122row12_col7\" class=\"data row12 col7\" >-0.1155</td>\n",
       "                        <td id=\"T_bd484e86_3af7_11ec_b9a0_acde48001122row12_col8\" class=\"data row12 col8\" >0.1020</td>\n",
       "            </tr>\n",
       "            <tr>\n",
       "                        <th id=\"T_bd484e86_3af7_11ec_b9a0_acde48001122level0_row13\" class=\"row_heading level0 row13\" >rf</th>\n",
       "                        <td id=\"T_bd484e86_3af7_11ec_b9a0_acde48001122row13_col0\" class=\"data row13 col0\" >Random Forest Classifier</td>\n",
       "                        <td id=\"T_bd484e86_3af7_11ec_b9a0_acde48001122row13_col1\" class=\"data row13 col1\" >0.1648</td>\n",
       "                        <td id=\"T_bd484e86_3af7_11ec_b9a0_acde48001122row13_col2\" class=\"data row13 col2\" >0.4354</td>\n",
       "                        <td id=\"T_bd484e86_3af7_11ec_b9a0_acde48001122row13_col3\" class=\"data row13 col3\" >0.1653</td>\n",
       "                        <td id=\"T_bd484e86_3af7_11ec_b9a0_acde48001122row13_col4\" class=\"data row13 col4\" >0.1726</td>\n",
       "                        <td id=\"T_bd484e86_3af7_11ec_b9a0_acde48001122row13_col5\" class=\"data row13 col5\" >0.1666</td>\n",
       "                        <td id=\"T_bd484e86_3af7_11ec_b9a0_acde48001122row13_col6\" class=\"data row13 col6\" >-0.1140</td>\n",
       "                        <td id=\"T_bd484e86_3af7_11ec_b9a0_acde48001122row13_col7\" class=\"data row13 col7\" >-0.1147</td>\n",
       "                        <td id=\"T_bd484e86_3af7_11ec_b9a0_acde48001122row13_col8\" class=\"data row13 col8\" >0.1070</td>\n",
       "            </tr>\n",
       "    </tbody></table>"
      ],
      "text/plain": [
       "<pandas.io.formats.style.Styler at 0x7fa9bece3dd0>"
      ]
     },
     "metadata": {},
     "output_type": "display_data"
    },
    {
     "data": {
      "text/plain": [
       "GaussianNB(priors=None, var_smoothing=1e-09)"
      ]
     },
     "execution_count": 43,
     "metadata": {},
     "output_type": "execute_result"
    }
   ],
   "source": [
    "compare_models()"
   ]
  },
  {
   "cell_type": "code",
   "execution_count": 44,
   "metadata": {
    "ExecuteTime": {
     "end_time": "2021-11-01T09:40:36.143876Z",
     "start_time": "2021-11-01T09:40:35.904699Z"
    }
   },
   "outputs": [
    {
     "data": {
      "text/html": [
       "<style  type=\"text/css\" >\n",
       "#T_c3f72c98_3af7_11ec_b9a0_acde48001122row10_col0,#T_c3f72c98_3af7_11ec_b9a0_acde48001122row10_col1,#T_c3f72c98_3af7_11ec_b9a0_acde48001122row10_col2,#T_c3f72c98_3af7_11ec_b9a0_acde48001122row10_col3,#T_c3f72c98_3af7_11ec_b9a0_acde48001122row10_col4,#T_c3f72c98_3af7_11ec_b9a0_acde48001122row10_col5,#T_c3f72c98_3af7_11ec_b9a0_acde48001122row10_col6{\n",
       "            background:  yellow;\n",
       "        }</style><table id=\"T_c3f72c98_3af7_11ec_b9a0_acde48001122\" ><thead>    <tr>        <th class=\"blank level0\" ></th>        <th class=\"col_heading level0 col0\" >Accuracy</th>        <th class=\"col_heading level0 col1\" >AUC</th>        <th class=\"col_heading level0 col2\" >Recall</th>        <th class=\"col_heading level0 col3\" >Prec.</th>        <th class=\"col_heading level0 col4\" >F1</th>        <th class=\"col_heading level0 col5\" >Kappa</th>        <th class=\"col_heading level0 col6\" >MCC</th>    </tr></thead><tbody>\n",
       "                <tr>\n",
       "                        <th id=\"T_c3f72c98_3af7_11ec_b9a0_acde48001122level0_row0\" class=\"row_heading level0 row0\" >0</th>\n",
       "                        <td id=\"T_c3f72c98_3af7_11ec_b9a0_acde48001122row0_col0\" class=\"data row0 col0\" >0.3388</td>\n",
       "                        <td id=\"T_c3f72c98_3af7_11ec_b9a0_acde48001122row0_col1\" class=\"data row0 col1\" >0.5487</td>\n",
       "                        <td id=\"T_c3f72c98_3af7_11ec_b9a0_acde48001122row0_col2\" class=\"data row0 col2\" >0.3417</td>\n",
       "                        <td id=\"T_c3f72c98_3af7_11ec_b9a0_acde48001122row0_col3\" class=\"data row0 col3\" >0.3347</td>\n",
       "                        <td id=\"T_c3f72c98_3af7_11ec_b9a0_acde48001122row0_col4\" class=\"data row0 col4\" >0.2804</td>\n",
       "                        <td id=\"T_c3f72c98_3af7_11ec_b9a0_acde48001122row0_col5\" class=\"data row0 col5\" >0.1209</td>\n",
       "                        <td id=\"T_c3f72c98_3af7_11ec_b9a0_acde48001122row0_col6\" class=\"data row0 col6\" >0.1529</td>\n",
       "            </tr>\n",
       "            <tr>\n",
       "                        <th id=\"T_c3f72c98_3af7_11ec_b9a0_acde48001122level0_row1\" class=\"row_heading level0 row1\" >1</th>\n",
       "                        <td id=\"T_c3f72c98_3af7_11ec_b9a0_acde48001122row1_col0\" class=\"data row1 col0\" >0.2975</td>\n",
       "                        <td id=\"T_c3f72c98_3af7_11ec_b9a0_acde48001122row1_col1\" class=\"data row1 col1\" >0.5287</td>\n",
       "                        <td id=\"T_c3f72c98_3af7_11ec_b9a0_acde48001122row1_col2\" class=\"data row1 col2\" >0.3000</td>\n",
       "                        <td id=\"T_c3f72c98_3af7_11ec_b9a0_acde48001122row1_col3\" class=\"data row1 col3\" >0.3278</td>\n",
       "                        <td id=\"T_c3f72c98_3af7_11ec_b9a0_acde48001122row1_col4\" class=\"data row1 col4\" >0.2266</td>\n",
       "                        <td id=\"T_c3f72c98_3af7_11ec_b9a0_acde48001122row1_col5\" class=\"data row1 col5\" >0.0659</td>\n",
       "                        <td id=\"T_c3f72c98_3af7_11ec_b9a0_acde48001122row1_col6\" class=\"data row1 col6\" >0.0847</td>\n",
       "            </tr>\n",
       "            <tr>\n",
       "                        <th id=\"T_c3f72c98_3af7_11ec_b9a0_acde48001122level0_row2\" class=\"row_heading level0 row2\" >2</th>\n",
       "                        <td id=\"T_c3f72c98_3af7_11ec_b9a0_acde48001122row2_col0\" class=\"data row2 col0\" >0.2479</td>\n",
       "                        <td id=\"T_c3f72c98_3af7_11ec_b9a0_acde48001122row2_col1\" class=\"data row2 col1\" >0.4794</td>\n",
       "                        <td id=\"T_c3f72c98_3af7_11ec_b9a0_acde48001122row2_col2\" class=\"data row2 col2\" >0.2500</td>\n",
       "                        <td id=\"T_c3f72c98_3af7_11ec_b9a0_acde48001122row2_col3\" class=\"data row2 col3\" >0.3039</td>\n",
       "                        <td id=\"T_c3f72c98_3af7_11ec_b9a0_acde48001122row2_col4\" class=\"data row2 col4\" >0.1917</td>\n",
       "                        <td id=\"T_c3f72c98_3af7_11ec_b9a0_acde48001122row2_col5\" class=\"data row2 col5\" >0.0000</td>\n",
       "                        <td id=\"T_c3f72c98_3af7_11ec_b9a0_acde48001122row2_col6\" class=\"data row2 col6\" >0.0000</td>\n",
       "            </tr>\n",
       "            <tr>\n",
       "                        <th id=\"T_c3f72c98_3af7_11ec_b9a0_acde48001122level0_row3\" class=\"row_heading level0 row3\" >3</th>\n",
       "                        <td id=\"T_c3f72c98_3af7_11ec_b9a0_acde48001122row3_col0\" class=\"data row3 col0\" >0.2975</td>\n",
       "                        <td id=\"T_c3f72c98_3af7_11ec_b9a0_acde48001122row3_col1\" class=\"data row3 col1\" >0.5281</td>\n",
       "                        <td id=\"T_c3f72c98_3af7_11ec_b9a0_acde48001122row3_col2\" class=\"data row3 col2\" >0.3000</td>\n",
       "                        <td id=\"T_c3f72c98_3af7_11ec_b9a0_acde48001122row3_col3\" class=\"data row3 col3\" >0.2923</td>\n",
       "                        <td id=\"T_c3f72c98_3af7_11ec_b9a0_acde48001122row3_col4\" class=\"data row3 col4\" >0.2195</td>\n",
       "                        <td id=\"T_c3f72c98_3af7_11ec_b9a0_acde48001122row3_col5\" class=\"data row3 col5\" >0.0659</td>\n",
       "                        <td id=\"T_c3f72c98_3af7_11ec_b9a0_acde48001122row3_col6\" class=\"data row3 col6\" >0.0872</td>\n",
       "            </tr>\n",
       "            <tr>\n",
       "                        <th id=\"T_c3f72c98_3af7_11ec_b9a0_acde48001122level0_row4\" class=\"row_heading level0 row4\" >4</th>\n",
       "                        <td id=\"T_c3f72c98_3af7_11ec_b9a0_acde48001122row4_col0\" class=\"data row4 col0\" >0.3223</td>\n",
       "                        <td id=\"T_c3f72c98_3af7_11ec_b9a0_acde48001122row4_col1\" class=\"data row4 col1\" >0.5242</td>\n",
       "                        <td id=\"T_c3f72c98_3af7_11ec_b9a0_acde48001122row4_col2\" class=\"data row4 col2\" >0.3241</td>\n",
       "                        <td id=\"T_c3f72c98_3af7_11ec_b9a0_acde48001122row4_col3\" class=\"data row4 col3\" >0.3308</td>\n",
       "                        <td id=\"T_c3f72c98_3af7_11ec_b9a0_acde48001122row4_col4\" class=\"data row4 col4\" >0.2774</td>\n",
       "                        <td id=\"T_c3f72c98_3af7_11ec_b9a0_acde48001122row4_col5\" class=\"data row4 col5\" >0.0959</td>\n",
       "                        <td id=\"T_c3f72c98_3af7_11ec_b9a0_acde48001122row4_col6\" class=\"data row4 col6\" >0.1106</td>\n",
       "            </tr>\n",
       "            <tr>\n",
       "                        <th id=\"T_c3f72c98_3af7_11ec_b9a0_acde48001122level0_row5\" class=\"row_heading level0 row5\" >5</th>\n",
       "                        <td id=\"T_c3f72c98_3af7_11ec_b9a0_acde48001122row5_col0\" class=\"data row5 col0\" >0.3223</td>\n",
       "                        <td id=\"T_c3f72c98_3af7_11ec_b9a0_acde48001122row5_col1\" class=\"data row5 col1\" >0.5429</td>\n",
       "                        <td id=\"T_c3f72c98_3af7_11ec_b9a0_acde48001122row5_col2\" class=\"data row5 col2\" >0.3156</td>\n",
       "                        <td id=\"T_c3f72c98_3af7_11ec_b9a0_acde48001122row5_col3\" class=\"data row5 col3\" >0.2422</td>\n",
       "                        <td id=\"T_c3f72c98_3af7_11ec_b9a0_acde48001122row5_col4\" class=\"data row5 col4\" >0.2231</td>\n",
       "                        <td id=\"T_c3f72c98_3af7_11ec_b9a0_acde48001122row5_col5\" class=\"data row5 col5\" >0.0899</td>\n",
       "                        <td id=\"T_c3f72c98_3af7_11ec_b9a0_acde48001122row5_col6\" class=\"data row5 col6\" >0.1207</td>\n",
       "            </tr>\n",
       "            <tr>\n",
       "                        <th id=\"T_c3f72c98_3af7_11ec_b9a0_acde48001122level0_row6\" class=\"row_heading level0 row6\" >6</th>\n",
       "                        <td id=\"T_c3f72c98_3af7_11ec_b9a0_acde48001122row6_col0\" class=\"data row6 col0\" >0.3636</td>\n",
       "                        <td id=\"T_c3f72c98_3af7_11ec_b9a0_acde48001122row6_col1\" class=\"data row6 col1\" >0.6000</td>\n",
       "                        <td id=\"T_c3f72c98_3af7_11ec_b9a0_acde48001122row6_col2\" class=\"data row6 col2\" >0.3621</td>\n",
       "                        <td id=\"T_c3f72c98_3af7_11ec_b9a0_acde48001122row6_col3\" class=\"data row6 col3\" >0.3274</td>\n",
       "                        <td id=\"T_c3f72c98_3af7_11ec_b9a0_acde48001122row6_col4\" class=\"data row6 col4\" >0.3068</td>\n",
       "                        <td id=\"T_c3f72c98_3af7_11ec_b9a0_acde48001122row6_col5\" class=\"data row6 col5\" >0.1471</td>\n",
       "                        <td id=\"T_c3f72c98_3af7_11ec_b9a0_acde48001122row6_col6\" class=\"data row6 col6\" >0.1786</td>\n",
       "            </tr>\n",
       "            <tr>\n",
       "                        <th id=\"T_c3f72c98_3af7_11ec_b9a0_acde48001122level0_row7\" class=\"row_heading level0 row7\" >7</th>\n",
       "                        <td id=\"T_c3f72c98_3af7_11ec_b9a0_acde48001122row7_col0\" class=\"data row7 col0\" >0.3140</td>\n",
       "                        <td id=\"T_c3f72c98_3af7_11ec_b9a0_acde48001122row7_col1\" class=\"data row7 col1\" >0.5295</td>\n",
       "                        <td id=\"T_c3f72c98_3af7_11ec_b9a0_acde48001122row7_col2\" class=\"data row7 col2\" >0.3087</td>\n",
       "                        <td id=\"T_c3f72c98_3af7_11ec_b9a0_acde48001122row7_col3\" class=\"data row7 col3\" >0.2793</td>\n",
       "                        <td id=\"T_c3f72c98_3af7_11ec_b9a0_acde48001122row7_col4\" class=\"data row7 col4\" >0.2437</td>\n",
       "                        <td id=\"T_c3f72c98_3af7_11ec_b9a0_acde48001122row7_col5\" class=\"data row7 col5\" >0.0791</td>\n",
       "                        <td id=\"T_c3f72c98_3af7_11ec_b9a0_acde48001122row7_col6\" class=\"data row7 col6\" >0.1000</td>\n",
       "            </tr>\n",
       "            <tr>\n",
       "                        <th id=\"T_c3f72c98_3af7_11ec_b9a0_acde48001122level0_row8\" class=\"row_heading level0 row8\" >8</th>\n",
       "                        <td id=\"T_c3f72c98_3af7_11ec_b9a0_acde48001122row8_col0\" class=\"data row8 col0\" >0.3167</td>\n",
       "                        <td id=\"T_c3f72c98_3af7_11ec_b9a0_acde48001122row8_col1\" class=\"data row8 col1\" >0.5451</td>\n",
       "                        <td id=\"T_c3f72c98_3af7_11ec_b9a0_acde48001122row8_col2\" class=\"data row8 col2\" >0.3181</td>\n",
       "                        <td id=\"T_c3f72c98_3af7_11ec_b9a0_acde48001122row8_col3\" class=\"data row8 col3\" >0.2925</td>\n",
       "                        <td id=\"T_c3f72c98_3af7_11ec_b9a0_acde48001122row8_col4\" class=\"data row8 col4\" >0.2467</td>\n",
       "                        <td id=\"T_c3f72c98_3af7_11ec_b9a0_acde48001122row8_col5\" class=\"data row8 col5\" >0.0896</td>\n",
       "                        <td id=\"T_c3f72c98_3af7_11ec_b9a0_acde48001122row8_col6\" class=\"data row8 col6\" >0.1093</td>\n",
       "            </tr>\n",
       "            <tr>\n",
       "                        <th id=\"T_c3f72c98_3af7_11ec_b9a0_acde48001122level0_row9\" class=\"row_heading level0 row9\" >9</th>\n",
       "                        <td id=\"T_c3f72c98_3af7_11ec_b9a0_acde48001122row9_col0\" class=\"data row9 col0\" >0.3583</td>\n",
       "                        <td id=\"T_c3f72c98_3af7_11ec_b9a0_acde48001122row9_col1\" class=\"data row9 col1\" >0.5777</td>\n",
       "                        <td id=\"T_c3f72c98_3af7_11ec_b9a0_acde48001122row9_col2\" class=\"data row9 col2\" >0.3601</td>\n",
       "                        <td id=\"T_c3f72c98_3af7_11ec_b9a0_acde48001122row9_col3\" class=\"data row9 col3\" >0.3160</td>\n",
       "                        <td id=\"T_c3f72c98_3af7_11ec_b9a0_acde48001122row9_col4\" class=\"data row9 col4\" >0.2838</td>\n",
       "                        <td id=\"T_c3f72c98_3af7_11ec_b9a0_acde48001122row9_col5\" class=\"data row9 col5\" >0.1452</td>\n",
       "                        <td id=\"T_c3f72c98_3af7_11ec_b9a0_acde48001122row9_col6\" class=\"data row9 col6\" >0.1793</td>\n",
       "            </tr>\n",
       "            <tr>\n",
       "                        <th id=\"T_c3f72c98_3af7_11ec_b9a0_acde48001122level0_row10\" class=\"row_heading level0 row10\" >Mean</th>\n",
       "                        <td id=\"T_c3f72c98_3af7_11ec_b9a0_acde48001122row10_col0\" class=\"data row10 col0\" >0.3179</td>\n",
       "                        <td id=\"T_c3f72c98_3af7_11ec_b9a0_acde48001122row10_col1\" class=\"data row10 col1\" >0.5404</td>\n",
       "                        <td id=\"T_c3f72c98_3af7_11ec_b9a0_acde48001122row10_col2\" class=\"data row10 col2\" >0.3180</td>\n",
       "                        <td id=\"T_c3f72c98_3af7_11ec_b9a0_acde48001122row10_col3\" class=\"data row10 col3\" >0.3047</td>\n",
       "                        <td id=\"T_c3f72c98_3af7_11ec_b9a0_acde48001122row10_col4\" class=\"data row10 col4\" >0.2500</td>\n",
       "                        <td id=\"T_c3f72c98_3af7_11ec_b9a0_acde48001122row10_col5\" class=\"data row10 col5\" >0.0900</td>\n",
       "                        <td id=\"T_c3f72c98_3af7_11ec_b9a0_acde48001122row10_col6\" class=\"data row10 col6\" >0.1123</td>\n",
       "            </tr>\n",
       "            <tr>\n",
       "                        <th id=\"T_c3f72c98_3af7_11ec_b9a0_acde48001122level0_row11\" class=\"row_heading level0 row11\" >SD</th>\n",
       "                        <td id=\"T_c3f72c98_3af7_11ec_b9a0_acde48001122row11_col0\" class=\"data row11 col0\" >0.0315</td>\n",
       "                        <td id=\"T_c3f72c98_3af7_11ec_b9a0_acde48001122row11_col1\" class=\"data row11 col1\" >0.0307</td>\n",
       "                        <td id=\"T_c3f72c98_3af7_11ec_b9a0_acde48001122row11_col2\" class=\"data row11 col2\" >0.0311</td>\n",
       "                        <td id=\"T_c3f72c98_3af7_11ec_b9a0_acde48001122row11_col3\" class=\"data row11 col3\" >0.0276</td>\n",
       "                        <td id=\"T_c3f72c98_3af7_11ec_b9a0_acde48001122row11_col4\" class=\"data row11 col4\" >0.0342</td>\n",
       "                        <td id=\"T_c3f72c98_3af7_11ec_b9a0_acde48001122row11_col5\" class=\"data row11 col5\" >0.0408</td>\n",
       "                        <td id=\"T_c3f72c98_3af7_11ec_b9a0_acde48001122row11_col6\" class=\"data row11 col6\" >0.0498</td>\n",
       "            </tr>\n",
       "    </tbody></table>"
      ],
      "text/plain": [
       "<pandas.io.formats.style.Styler at 0x7fa9bed9bc90>"
      ]
     },
     "metadata": {},
     "output_type": "display_data"
    }
   ],
   "source": [
    "model = create_model('nb')"
   ]
  },
  {
   "cell_type": "code",
   "execution_count": 48,
   "metadata": {
    "ExecuteTime": {
     "end_time": "2021-11-01T09:41:07.846950Z",
     "start_time": "2021-11-01T09:41:07.210587Z"
    }
   },
   "outputs": [
    {
     "data": {
      "text/html": [
       "<style  type=\"text/css\" >\n",
       "#T_d6dc84de_3af7_11ec_b9a0_acde48001122row10_col0,#T_d6dc84de_3af7_11ec_b9a0_acde48001122row10_col1,#T_d6dc84de_3af7_11ec_b9a0_acde48001122row10_col2,#T_d6dc84de_3af7_11ec_b9a0_acde48001122row10_col3,#T_d6dc84de_3af7_11ec_b9a0_acde48001122row10_col4,#T_d6dc84de_3af7_11ec_b9a0_acde48001122row10_col5,#T_d6dc84de_3af7_11ec_b9a0_acde48001122row10_col6{\n",
       "            background:  yellow;\n",
       "        }</style><table id=\"T_d6dc84de_3af7_11ec_b9a0_acde48001122\" ><thead>    <tr>        <th class=\"blank level0\" ></th>        <th class=\"col_heading level0 col0\" >Accuracy</th>        <th class=\"col_heading level0 col1\" >AUC</th>        <th class=\"col_heading level0 col2\" >Recall</th>        <th class=\"col_heading level0 col3\" >Prec.</th>        <th class=\"col_heading level0 col4\" >F1</th>        <th class=\"col_heading level0 col5\" >Kappa</th>        <th class=\"col_heading level0 col6\" >MCC</th>    </tr></thead><tbody>\n",
       "                <tr>\n",
       "                        <th id=\"T_d6dc84de_3af7_11ec_b9a0_acde48001122level0_row0\" class=\"row_heading level0 row0\" >0</th>\n",
       "                        <td id=\"T_d6dc84de_3af7_11ec_b9a0_acde48001122row0_col0\" class=\"data row0 col0\" >0.3388</td>\n",
       "                        <td id=\"T_d6dc84de_3af7_11ec_b9a0_acde48001122row0_col1\" class=\"data row0 col1\" >0.5487</td>\n",
       "                        <td id=\"T_d6dc84de_3af7_11ec_b9a0_acde48001122row0_col2\" class=\"data row0 col2\" >0.3417</td>\n",
       "                        <td id=\"T_d6dc84de_3af7_11ec_b9a0_acde48001122row0_col3\" class=\"data row0 col3\" >0.3347</td>\n",
       "                        <td id=\"T_d6dc84de_3af7_11ec_b9a0_acde48001122row0_col4\" class=\"data row0 col4\" >0.2804</td>\n",
       "                        <td id=\"T_d6dc84de_3af7_11ec_b9a0_acde48001122row0_col5\" class=\"data row0 col5\" >0.1209</td>\n",
       "                        <td id=\"T_d6dc84de_3af7_11ec_b9a0_acde48001122row0_col6\" class=\"data row0 col6\" >0.1529</td>\n",
       "            </tr>\n",
       "            <tr>\n",
       "                        <th id=\"T_d6dc84de_3af7_11ec_b9a0_acde48001122level0_row1\" class=\"row_heading level0 row1\" >1</th>\n",
       "                        <td id=\"T_d6dc84de_3af7_11ec_b9a0_acde48001122row1_col0\" class=\"data row1 col0\" >0.2975</td>\n",
       "                        <td id=\"T_d6dc84de_3af7_11ec_b9a0_acde48001122row1_col1\" class=\"data row1 col1\" >0.5287</td>\n",
       "                        <td id=\"T_d6dc84de_3af7_11ec_b9a0_acde48001122row1_col2\" class=\"data row1 col2\" >0.3000</td>\n",
       "                        <td id=\"T_d6dc84de_3af7_11ec_b9a0_acde48001122row1_col3\" class=\"data row1 col3\" >0.3278</td>\n",
       "                        <td id=\"T_d6dc84de_3af7_11ec_b9a0_acde48001122row1_col4\" class=\"data row1 col4\" >0.2266</td>\n",
       "                        <td id=\"T_d6dc84de_3af7_11ec_b9a0_acde48001122row1_col5\" class=\"data row1 col5\" >0.0659</td>\n",
       "                        <td id=\"T_d6dc84de_3af7_11ec_b9a0_acde48001122row1_col6\" class=\"data row1 col6\" >0.0847</td>\n",
       "            </tr>\n",
       "            <tr>\n",
       "                        <th id=\"T_d6dc84de_3af7_11ec_b9a0_acde48001122level0_row2\" class=\"row_heading level0 row2\" >2</th>\n",
       "                        <td id=\"T_d6dc84de_3af7_11ec_b9a0_acde48001122row2_col0\" class=\"data row2 col0\" >0.2479</td>\n",
       "                        <td id=\"T_d6dc84de_3af7_11ec_b9a0_acde48001122row2_col1\" class=\"data row2 col1\" >0.4794</td>\n",
       "                        <td id=\"T_d6dc84de_3af7_11ec_b9a0_acde48001122row2_col2\" class=\"data row2 col2\" >0.2500</td>\n",
       "                        <td id=\"T_d6dc84de_3af7_11ec_b9a0_acde48001122row2_col3\" class=\"data row2 col3\" >0.3039</td>\n",
       "                        <td id=\"T_d6dc84de_3af7_11ec_b9a0_acde48001122row2_col4\" class=\"data row2 col4\" >0.1917</td>\n",
       "                        <td id=\"T_d6dc84de_3af7_11ec_b9a0_acde48001122row2_col5\" class=\"data row2 col5\" >0.0000</td>\n",
       "                        <td id=\"T_d6dc84de_3af7_11ec_b9a0_acde48001122row2_col6\" class=\"data row2 col6\" >0.0000</td>\n",
       "            </tr>\n",
       "            <tr>\n",
       "                        <th id=\"T_d6dc84de_3af7_11ec_b9a0_acde48001122level0_row3\" class=\"row_heading level0 row3\" >3</th>\n",
       "                        <td id=\"T_d6dc84de_3af7_11ec_b9a0_acde48001122row3_col0\" class=\"data row3 col0\" >0.2975</td>\n",
       "                        <td id=\"T_d6dc84de_3af7_11ec_b9a0_acde48001122row3_col1\" class=\"data row3 col1\" >0.5281</td>\n",
       "                        <td id=\"T_d6dc84de_3af7_11ec_b9a0_acde48001122row3_col2\" class=\"data row3 col2\" >0.3000</td>\n",
       "                        <td id=\"T_d6dc84de_3af7_11ec_b9a0_acde48001122row3_col3\" class=\"data row3 col3\" >0.2923</td>\n",
       "                        <td id=\"T_d6dc84de_3af7_11ec_b9a0_acde48001122row3_col4\" class=\"data row3 col4\" >0.2195</td>\n",
       "                        <td id=\"T_d6dc84de_3af7_11ec_b9a0_acde48001122row3_col5\" class=\"data row3 col5\" >0.0659</td>\n",
       "                        <td id=\"T_d6dc84de_3af7_11ec_b9a0_acde48001122row3_col6\" class=\"data row3 col6\" >0.0872</td>\n",
       "            </tr>\n",
       "            <tr>\n",
       "                        <th id=\"T_d6dc84de_3af7_11ec_b9a0_acde48001122level0_row4\" class=\"row_heading level0 row4\" >4</th>\n",
       "                        <td id=\"T_d6dc84de_3af7_11ec_b9a0_acde48001122row4_col0\" class=\"data row4 col0\" >0.3223</td>\n",
       "                        <td id=\"T_d6dc84de_3af7_11ec_b9a0_acde48001122row4_col1\" class=\"data row4 col1\" >0.5242</td>\n",
       "                        <td id=\"T_d6dc84de_3af7_11ec_b9a0_acde48001122row4_col2\" class=\"data row4 col2\" >0.3241</td>\n",
       "                        <td id=\"T_d6dc84de_3af7_11ec_b9a0_acde48001122row4_col3\" class=\"data row4 col3\" >0.3308</td>\n",
       "                        <td id=\"T_d6dc84de_3af7_11ec_b9a0_acde48001122row4_col4\" class=\"data row4 col4\" >0.2774</td>\n",
       "                        <td id=\"T_d6dc84de_3af7_11ec_b9a0_acde48001122row4_col5\" class=\"data row4 col5\" >0.0959</td>\n",
       "                        <td id=\"T_d6dc84de_3af7_11ec_b9a0_acde48001122row4_col6\" class=\"data row4 col6\" >0.1106</td>\n",
       "            </tr>\n",
       "            <tr>\n",
       "                        <th id=\"T_d6dc84de_3af7_11ec_b9a0_acde48001122level0_row5\" class=\"row_heading level0 row5\" >5</th>\n",
       "                        <td id=\"T_d6dc84de_3af7_11ec_b9a0_acde48001122row5_col0\" class=\"data row5 col0\" >0.3223</td>\n",
       "                        <td id=\"T_d6dc84de_3af7_11ec_b9a0_acde48001122row5_col1\" class=\"data row5 col1\" >0.5429</td>\n",
       "                        <td id=\"T_d6dc84de_3af7_11ec_b9a0_acde48001122row5_col2\" class=\"data row5 col2\" >0.3156</td>\n",
       "                        <td id=\"T_d6dc84de_3af7_11ec_b9a0_acde48001122row5_col3\" class=\"data row5 col3\" >0.2422</td>\n",
       "                        <td id=\"T_d6dc84de_3af7_11ec_b9a0_acde48001122row5_col4\" class=\"data row5 col4\" >0.2231</td>\n",
       "                        <td id=\"T_d6dc84de_3af7_11ec_b9a0_acde48001122row5_col5\" class=\"data row5 col5\" >0.0899</td>\n",
       "                        <td id=\"T_d6dc84de_3af7_11ec_b9a0_acde48001122row5_col6\" class=\"data row5 col6\" >0.1207</td>\n",
       "            </tr>\n",
       "            <tr>\n",
       "                        <th id=\"T_d6dc84de_3af7_11ec_b9a0_acde48001122level0_row6\" class=\"row_heading level0 row6\" >6</th>\n",
       "                        <td id=\"T_d6dc84de_3af7_11ec_b9a0_acde48001122row6_col0\" class=\"data row6 col0\" >0.3636</td>\n",
       "                        <td id=\"T_d6dc84de_3af7_11ec_b9a0_acde48001122row6_col1\" class=\"data row6 col1\" >0.6000</td>\n",
       "                        <td id=\"T_d6dc84de_3af7_11ec_b9a0_acde48001122row6_col2\" class=\"data row6 col2\" >0.3621</td>\n",
       "                        <td id=\"T_d6dc84de_3af7_11ec_b9a0_acde48001122row6_col3\" class=\"data row6 col3\" >0.3274</td>\n",
       "                        <td id=\"T_d6dc84de_3af7_11ec_b9a0_acde48001122row6_col4\" class=\"data row6 col4\" >0.3068</td>\n",
       "                        <td id=\"T_d6dc84de_3af7_11ec_b9a0_acde48001122row6_col5\" class=\"data row6 col5\" >0.1471</td>\n",
       "                        <td id=\"T_d6dc84de_3af7_11ec_b9a0_acde48001122row6_col6\" class=\"data row6 col6\" >0.1786</td>\n",
       "            </tr>\n",
       "            <tr>\n",
       "                        <th id=\"T_d6dc84de_3af7_11ec_b9a0_acde48001122level0_row7\" class=\"row_heading level0 row7\" >7</th>\n",
       "                        <td id=\"T_d6dc84de_3af7_11ec_b9a0_acde48001122row7_col0\" class=\"data row7 col0\" >0.3140</td>\n",
       "                        <td id=\"T_d6dc84de_3af7_11ec_b9a0_acde48001122row7_col1\" class=\"data row7 col1\" >0.5295</td>\n",
       "                        <td id=\"T_d6dc84de_3af7_11ec_b9a0_acde48001122row7_col2\" class=\"data row7 col2\" >0.3087</td>\n",
       "                        <td id=\"T_d6dc84de_3af7_11ec_b9a0_acde48001122row7_col3\" class=\"data row7 col3\" >0.2793</td>\n",
       "                        <td id=\"T_d6dc84de_3af7_11ec_b9a0_acde48001122row7_col4\" class=\"data row7 col4\" >0.2437</td>\n",
       "                        <td id=\"T_d6dc84de_3af7_11ec_b9a0_acde48001122row7_col5\" class=\"data row7 col5\" >0.0791</td>\n",
       "                        <td id=\"T_d6dc84de_3af7_11ec_b9a0_acde48001122row7_col6\" class=\"data row7 col6\" >0.1000</td>\n",
       "            </tr>\n",
       "            <tr>\n",
       "                        <th id=\"T_d6dc84de_3af7_11ec_b9a0_acde48001122level0_row8\" class=\"row_heading level0 row8\" >8</th>\n",
       "                        <td id=\"T_d6dc84de_3af7_11ec_b9a0_acde48001122row8_col0\" class=\"data row8 col0\" >0.3167</td>\n",
       "                        <td id=\"T_d6dc84de_3af7_11ec_b9a0_acde48001122row8_col1\" class=\"data row8 col1\" >0.5451</td>\n",
       "                        <td id=\"T_d6dc84de_3af7_11ec_b9a0_acde48001122row8_col2\" class=\"data row8 col2\" >0.3181</td>\n",
       "                        <td id=\"T_d6dc84de_3af7_11ec_b9a0_acde48001122row8_col3\" class=\"data row8 col3\" >0.2925</td>\n",
       "                        <td id=\"T_d6dc84de_3af7_11ec_b9a0_acde48001122row8_col4\" class=\"data row8 col4\" >0.2467</td>\n",
       "                        <td id=\"T_d6dc84de_3af7_11ec_b9a0_acde48001122row8_col5\" class=\"data row8 col5\" >0.0896</td>\n",
       "                        <td id=\"T_d6dc84de_3af7_11ec_b9a0_acde48001122row8_col6\" class=\"data row8 col6\" >0.1093</td>\n",
       "            </tr>\n",
       "            <tr>\n",
       "                        <th id=\"T_d6dc84de_3af7_11ec_b9a0_acde48001122level0_row9\" class=\"row_heading level0 row9\" >9</th>\n",
       "                        <td id=\"T_d6dc84de_3af7_11ec_b9a0_acde48001122row9_col0\" class=\"data row9 col0\" >0.3583</td>\n",
       "                        <td id=\"T_d6dc84de_3af7_11ec_b9a0_acde48001122row9_col1\" class=\"data row9 col1\" >0.5777</td>\n",
       "                        <td id=\"T_d6dc84de_3af7_11ec_b9a0_acde48001122row9_col2\" class=\"data row9 col2\" >0.3601</td>\n",
       "                        <td id=\"T_d6dc84de_3af7_11ec_b9a0_acde48001122row9_col3\" class=\"data row9 col3\" >0.3160</td>\n",
       "                        <td id=\"T_d6dc84de_3af7_11ec_b9a0_acde48001122row9_col4\" class=\"data row9 col4\" >0.2838</td>\n",
       "                        <td id=\"T_d6dc84de_3af7_11ec_b9a0_acde48001122row9_col5\" class=\"data row9 col5\" >0.1452</td>\n",
       "                        <td id=\"T_d6dc84de_3af7_11ec_b9a0_acde48001122row9_col6\" class=\"data row9 col6\" >0.1793</td>\n",
       "            </tr>\n",
       "            <tr>\n",
       "                        <th id=\"T_d6dc84de_3af7_11ec_b9a0_acde48001122level0_row10\" class=\"row_heading level0 row10\" >Mean</th>\n",
       "                        <td id=\"T_d6dc84de_3af7_11ec_b9a0_acde48001122row10_col0\" class=\"data row10 col0\" >0.3179</td>\n",
       "                        <td id=\"T_d6dc84de_3af7_11ec_b9a0_acde48001122row10_col1\" class=\"data row10 col1\" >0.5404</td>\n",
       "                        <td id=\"T_d6dc84de_3af7_11ec_b9a0_acde48001122row10_col2\" class=\"data row10 col2\" >0.3180</td>\n",
       "                        <td id=\"T_d6dc84de_3af7_11ec_b9a0_acde48001122row10_col3\" class=\"data row10 col3\" >0.3047</td>\n",
       "                        <td id=\"T_d6dc84de_3af7_11ec_b9a0_acde48001122row10_col4\" class=\"data row10 col4\" >0.2500</td>\n",
       "                        <td id=\"T_d6dc84de_3af7_11ec_b9a0_acde48001122row10_col5\" class=\"data row10 col5\" >0.0900</td>\n",
       "                        <td id=\"T_d6dc84de_3af7_11ec_b9a0_acde48001122row10_col6\" class=\"data row10 col6\" >0.1123</td>\n",
       "            </tr>\n",
       "            <tr>\n",
       "                        <th id=\"T_d6dc84de_3af7_11ec_b9a0_acde48001122level0_row11\" class=\"row_heading level0 row11\" >SD</th>\n",
       "                        <td id=\"T_d6dc84de_3af7_11ec_b9a0_acde48001122row11_col0\" class=\"data row11 col0\" >0.0315</td>\n",
       "                        <td id=\"T_d6dc84de_3af7_11ec_b9a0_acde48001122row11_col1\" class=\"data row11 col1\" >0.0307</td>\n",
       "                        <td id=\"T_d6dc84de_3af7_11ec_b9a0_acde48001122row11_col2\" class=\"data row11 col2\" >0.0311</td>\n",
       "                        <td id=\"T_d6dc84de_3af7_11ec_b9a0_acde48001122row11_col3\" class=\"data row11 col3\" >0.0276</td>\n",
       "                        <td id=\"T_d6dc84de_3af7_11ec_b9a0_acde48001122row11_col4\" class=\"data row11 col4\" >0.0342</td>\n",
       "                        <td id=\"T_d6dc84de_3af7_11ec_b9a0_acde48001122row11_col5\" class=\"data row11 col5\" >0.0408</td>\n",
       "                        <td id=\"T_d6dc84de_3af7_11ec_b9a0_acde48001122row11_col6\" class=\"data row11 col6\" >0.0498</td>\n",
       "            </tr>\n",
       "    </tbody></table>"
      ],
      "text/plain": [
       "<pandas.io.formats.style.Styler at 0x7fa9bac7ec10>"
      ]
     },
     "metadata": {},
     "output_type": "display_data"
    }
   ],
   "source": [
    "tuned_nb = tune_model(model)"
   ]
  },
  {
   "cell_type": "code",
   "execution_count": 49,
   "metadata": {
    "ExecuteTime": {
     "end_time": "2021-11-01T09:41:10.042463Z",
     "start_time": "2021-11-01T09:41:10.032542Z"
    }
   },
   "outputs": [
    {
     "data": {
      "text/html": [
       "<div>\n",
       "<style scoped>\n",
       "    .dataframe tbody tr th:only-of-type {\n",
       "        vertical-align: middle;\n",
       "    }\n",
       "\n",
       "    .dataframe tbody tr th {\n",
       "        vertical-align: top;\n",
       "    }\n",
       "\n",
       "    .dataframe thead th {\n",
       "        text-align: right;\n",
       "    }\n",
       "</style>\n",
       "<table border=\"1\" class=\"dataframe\">\n",
       "  <thead>\n",
       "    <tr style=\"text-align: right;\">\n",
       "      <th></th>\n",
       "      <th>maintenance</th>\n",
       "      <th>doors</th>\n",
       "      <th>lug_boot</th>\n",
       "      <th>safety</th>\n",
       "      <th>class_value</th>\n",
       "    </tr>\n",
       "  </thead>\n",
       "  <tbody>\n",
       "    <tr>\n",
       "      <th>0</th>\n",
       "      <td>High</td>\n",
       "      <td>4</td>\n",
       "      <td>Big</td>\n",
       "      <td>High</td>\n",
       "      <td>Good</td>\n",
       "    </tr>\n",
       "  </tbody>\n",
       "</table>\n",
       "</div>"
      ],
      "text/plain": [
       "  maintenance doors lug_boot safety class_value\n",
       "0        High     4      Big   High        Good"
      ]
     },
     "execution_count": 49,
     "metadata": {},
     "output_type": "execute_result"
    }
   ],
   "source": [
    "\n",
    "test = pd.DataFrame([['High', '4', 'Big', 'High', 'Good']])\n",
    "test.columns = [\"maintenance\", \"doors\", \"lug_boot\", \"safety\", \"class_value\"]\n",
    "\n",
    "\n",
    "test.head()"
   ]
  },
  {
   "cell_type": "code",
   "execution_count": 50,
   "metadata": {
    "ExecuteTime": {
     "end_time": "2021-11-01T09:41:11.235412Z",
     "start_time": "2021-11-01T09:41:11.087079Z"
    }
   },
   "outputs": [
    {
     "data": {
      "text/html": [
       "<div>\n",
       "<style scoped>\n",
       "    .dataframe tbody tr th:only-of-type {\n",
       "        vertical-align: middle;\n",
       "    }\n",
       "\n",
       "    .dataframe tbody tr th {\n",
       "        vertical-align: top;\n",
       "    }\n",
       "\n",
       "    .dataframe thead th {\n",
       "        text-align: right;\n",
       "    }\n",
       "</style>\n",
       "<table border=\"1\" class=\"dataframe\">\n",
       "  <thead>\n",
       "    <tr style=\"text-align: right;\">\n",
       "      <th></th>\n",
       "      <th>maintenance</th>\n",
       "      <th>doors</th>\n",
       "      <th>lug_boot</th>\n",
       "      <th>safety</th>\n",
       "      <th>class_value</th>\n",
       "      <th>Label</th>\n",
       "      <th>Score</th>\n",
       "    </tr>\n",
       "  </thead>\n",
       "  <tbody>\n",
       "    <tr>\n",
       "      <th>0</th>\n",
       "      <td>High</td>\n",
       "      <td>4</td>\n",
       "      <td>Big</td>\n",
       "      <td>High</td>\n",
       "      <td>Good</td>\n",
       "      <td>low</td>\n",
       "      <td>0.9841</td>\n",
       "    </tr>\n",
       "  </tbody>\n",
       "</table>\n",
       "</div>"
      ],
      "text/plain": [
       "  maintenance doors lug_boot safety class_value Label   Score\n",
       "0        High     4      Big   High        Good   low  0.9841"
      ]
     },
     "execution_count": 50,
     "metadata": {},
     "output_type": "execute_result"
    }
   ],
   "source": [
    "unseen_predictions = predict_model(tuned_nb, data=test)\n",
    "unseen_predictions.head()"
   ]
  },
  {
   "cell_type": "markdown",
   "metadata": {},
   "source": [
    "***The predicted Buying Price would be low*** "
   ]
  },
  {
   "cell_type": "code",
   "execution_count": null,
   "metadata": {},
   "outputs": [],
   "source": []
  }
 ],
 "metadata": {
  "kernelspec": {
   "display_name": "Python 3",
   "language": "python",
   "name": "python3"
  },
  "language_info": {
   "codemirror_mode": {
    "name": "ipython",
    "version": 3
   },
   "file_extension": ".py",
   "mimetype": "text/x-python",
   "name": "python",
   "nbconvert_exporter": "python",
   "pygments_lexer": "ipython3",
   "version": "3.7.6"
  }
 },
 "nbformat": 4,
 "nbformat_minor": 4
}
